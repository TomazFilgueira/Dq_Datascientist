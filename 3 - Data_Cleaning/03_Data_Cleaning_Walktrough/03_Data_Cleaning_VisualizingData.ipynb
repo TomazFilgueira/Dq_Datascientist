{
 "cells": [
  {
   "cell_type": "markdown",
   "id": "19bd6e9a",
   "metadata": {},
   "source": [
    "# Import Dataset\n"
   ]
  },
  {
   "cell_type": "code",
   "execution_count": 2,
   "id": "f65ba494",
   "metadata": {},
   "outputs": [
    {
     "name": "stderr",
     "output_type": "stream",
     "text": [
      "/workspaces/Dq_Datascientist/3 - Data_Cleaning/03_Data_Cleaning_Walktrough/CleanedData.py:67: SyntaxWarning: invalid escape sequence '\\('\n",
      "  y = re.findall(\"\\(.+\\)\", x)\n",
      "/workspaces/Dq_Datascientist/3 - Data_Cleaning/03_Data_Cleaning_Walktrough/CleanedData.py:75: SyntaxWarning: invalid escape sequence '\\('\n",
      "  y = re.findall(\"\\(.+\\)\", x)\n",
      "/workspaces/Dq_Datascientist/3 - Data_Cleaning/03_Data_Cleaning_Walktrough/CleanedData.py:138: PerformanceWarning: DataFrame is highly fragmented.  This is usually the result of calling `frame.insert` many times, which has poor performance.  Consider joining all columns at once using pd.concat(axis=1) instead. To get a de-fragmented frame, use `newframe = frame.copy()`\n",
      "  combined['school_dist'] = combined['DBN'].apply(lambda x:x[0:2])\n"
     ]
    }
   ],
   "source": [
    "%run -i \"CleanedData.py\""
   ]
  },
  {
   "cell_type": "code",
   "execution_count": 3,
   "id": "096c51b4",
   "metadata": {},
   "outputs": [
    {
     "data": {
      "text/html": [
       "<div>\n",
       "<style scoped>\n",
       "    .dataframe tbody tr th:only-of-type {\n",
       "        vertical-align: middle;\n",
       "    }\n",
       "\n",
       "    .dataframe tbody tr th {\n",
       "        vertical-align: top;\n",
       "    }\n",
       "\n",
       "    .dataframe thead th {\n",
       "        text-align: right;\n",
       "    }\n",
       "</style>\n",
       "<table border=\"1\" class=\"dataframe\">\n",
       "  <thead>\n",
       "    <tr style=\"text-align: right;\">\n",
       "      <th></th>\n",
       "      <th>DBN</th>\n",
       "      <th>SCHOOL NAME_x</th>\n",
       "      <th>Num of SAT Test Takers</th>\n",
       "      <th>SAT Critical Reading Avg. Score</th>\n",
       "      <th>SAT Math Avg. Score</th>\n",
       "      <th>SAT Writing Avg. Score</th>\n",
       "      <th>sat_score</th>\n",
       "      <th>SchoolName</th>\n",
       "      <th>AP Test Takers</th>\n",
       "      <th>Total Exams Taken</th>\n",
       "      <th>...</th>\n",
       "      <th>Location 1</th>\n",
       "      <th>Community Board</th>\n",
       "      <th>Council District</th>\n",
       "      <th>Census Tract</th>\n",
       "      <th>BIN</th>\n",
       "      <th>BBL</th>\n",
       "      <th>NTA</th>\n",
       "      <th>lon</th>\n",
       "      <th>lat</th>\n",
       "      <th>school_dist</th>\n",
       "    </tr>\n",
       "  </thead>\n",
       "  <tbody>\n",
       "    <tr>\n",
       "      <th>0</th>\n",
       "      <td>01M292</td>\n",
       "      <td>HENRY STREET SCHOOL FOR INTERNATIONAL STUDIES</td>\n",
       "      <td>29</td>\n",
       "      <td>355.0</td>\n",
       "      <td>404.0</td>\n",
       "      <td>363.0</td>\n",
       "      <td>1122.0</td>\n",
       "      <td>0</td>\n",
       "      <td>0.0</td>\n",
       "      <td>0.0</td>\n",
       "      <td>...</td>\n",
       "      <td>220 Henry Street\\nNew York, NY 10002\\n(40.7137...</td>\n",
       "      <td>3.0</td>\n",
       "      <td>1.0</td>\n",
       "      <td>201.0</td>\n",
       "      <td>1003223.0</td>\n",
       "      <td>1.002690e+09</td>\n",
       "      <td>Lower East Side                               ...</td>\n",
       "      <td>-73.98526</td>\n",
       "      <td>40.713764</td>\n",
       "      <td>01</td>\n",
       "    </tr>\n",
       "    <tr>\n",
       "      <th>1</th>\n",
       "      <td>01M292</td>\n",
       "      <td>HENRY STREET SCHOOL FOR INTERNATIONAL STUDIES</td>\n",
       "      <td>29</td>\n",
       "      <td>355.0</td>\n",
       "      <td>404.0</td>\n",
       "      <td>363.0</td>\n",
       "      <td>1122.0</td>\n",
       "      <td>0</td>\n",
       "      <td>0.0</td>\n",
       "      <td>0.0</td>\n",
       "      <td>...</td>\n",
       "      <td>220 Henry Street\\nNew York, NY 10002\\n(40.7137...</td>\n",
       "      <td>3.0</td>\n",
       "      <td>1.0</td>\n",
       "      <td>201.0</td>\n",
       "      <td>1003223.0</td>\n",
       "      <td>1.002690e+09</td>\n",
       "      <td>Lower East Side                               ...</td>\n",
       "      <td>-73.98526</td>\n",
       "      <td>40.713764</td>\n",
       "      <td>01</td>\n",
       "    </tr>\n",
       "    <tr>\n",
       "      <th>2</th>\n",
       "      <td>01M292</td>\n",
       "      <td>HENRY STREET SCHOOL FOR INTERNATIONAL STUDIES</td>\n",
       "      <td>29</td>\n",
       "      <td>355.0</td>\n",
       "      <td>404.0</td>\n",
       "      <td>363.0</td>\n",
       "      <td>1122.0</td>\n",
       "      <td>0</td>\n",
       "      <td>0.0</td>\n",
       "      <td>0.0</td>\n",
       "      <td>...</td>\n",
       "      <td>220 Henry Street\\nNew York, NY 10002\\n(40.7137...</td>\n",
       "      <td>3.0</td>\n",
       "      <td>1.0</td>\n",
       "      <td>201.0</td>\n",
       "      <td>1003223.0</td>\n",
       "      <td>1.002690e+09</td>\n",
       "      <td>Lower East Side                               ...</td>\n",
       "      <td>-73.98526</td>\n",
       "      <td>40.713764</td>\n",
       "      <td>01</td>\n",
       "    </tr>\n",
       "    <tr>\n",
       "      <th>3</th>\n",
       "      <td>01M292</td>\n",
       "      <td>HENRY STREET SCHOOL FOR INTERNATIONAL STUDIES</td>\n",
       "      <td>29</td>\n",
       "      <td>355.0</td>\n",
       "      <td>404.0</td>\n",
       "      <td>363.0</td>\n",
       "      <td>1122.0</td>\n",
       "      <td>0</td>\n",
       "      <td>0.0</td>\n",
       "      <td>0.0</td>\n",
       "      <td>...</td>\n",
       "      <td>220 Henry Street\\nNew York, NY 10002\\n(40.7137...</td>\n",
       "      <td>3.0</td>\n",
       "      <td>1.0</td>\n",
       "      <td>201.0</td>\n",
       "      <td>1003223.0</td>\n",
       "      <td>1.002690e+09</td>\n",
       "      <td>Lower East Side                               ...</td>\n",
       "      <td>-73.98526</td>\n",
       "      <td>40.713764</td>\n",
       "      <td>01</td>\n",
       "    </tr>\n",
       "    <tr>\n",
       "      <th>4</th>\n",
       "      <td>01M292</td>\n",
       "      <td>HENRY STREET SCHOOL FOR INTERNATIONAL STUDIES</td>\n",
       "      <td>29</td>\n",
       "      <td>355.0</td>\n",
       "      <td>404.0</td>\n",
       "      <td>363.0</td>\n",
       "      <td>1122.0</td>\n",
       "      <td>0</td>\n",
       "      <td>0.0</td>\n",
       "      <td>0.0</td>\n",
       "      <td>...</td>\n",
       "      <td>220 Henry Street\\nNew York, NY 10002\\n(40.7137...</td>\n",
       "      <td>3.0</td>\n",
       "      <td>1.0</td>\n",
       "      <td>201.0</td>\n",
       "      <td>1003223.0</td>\n",
       "      <td>1.002690e+09</td>\n",
       "      <td>Lower East Side                               ...</td>\n",
       "      <td>-73.98526</td>\n",
       "      <td>40.713764</td>\n",
       "      <td>01</td>\n",
       "    </tr>\n",
       "  </tbody>\n",
       "</table>\n",
       "<p>5 rows × 176 columns</p>\n",
       "</div>"
      ],
      "text/plain": [
       "      DBN                                  SCHOOL NAME_x  \\\n",
       "0  01M292  HENRY STREET SCHOOL FOR INTERNATIONAL STUDIES   \n",
       "1  01M292  HENRY STREET SCHOOL FOR INTERNATIONAL STUDIES   \n",
       "2  01M292  HENRY STREET SCHOOL FOR INTERNATIONAL STUDIES   \n",
       "3  01M292  HENRY STREET SCHOOL FOR INTERNATIONAL STUDIES   \n",
       "4  01M292  HENRY STREET SCHOOL FOR INTERNATIONAL STUDIES   \n",
       "\n",
       "  Num of SAT Test Takers  SAT Critical Reading Avg. Score  \\\n",
       "0                     29                            355.0   \n",
       "1                     29                            355.0   \n",
       "2                     29                            355.0   \n",
       "3                     29                            355.0   \n",
       "4                     29                            355.0   \n",
       "\n",
       "   SAT Math Avg. Score  SAT Writing Avg. Score  sat_score SchoolName  \\\n",
       "0                404.0                   363.0     1122.0          0   \n",
       "1                404.0                   363.0     1122.0          0   \n",
       "2                404.0                   363.0     1122.0          0   \n",
       "3                404.0                   363.0     1122.0          0   \n",
       "4                404.0                   363.0     1122.0          0   \n",
       "\n",
       "   AP Test Takers   Total Exams Taken  ...  \\\n",
       "0              0.0                0.0  ...   \n",
       "1              0.0                0.0  ...   \n",
       "2              0.0                0.0  ...   \n",
       "3              0.0                0.0  ...   \n",
       "4              0.0                0.0  ...   \n",
       "\n",
       "                                          Location 1 Community Board  \\\n",
       "0  220 Henry Street\\nNew York, NY 10002\\n(40.7137...             3.0   \n",
       "1  220 Henry Street\\nNew York, NY 10002\\n(40.7137...             3.0   \n",
       "2  220 Henry Street\\nNew York, NY 10002\\n(40.7137...             3.0   \n",
       "3  220 Henry Street\\nNew York, NY 10002\\n(40.7137...             3.0   \n",
       "4  220 Henry Street\\nNew York, NY 10002\\n(40.7137...             3.0   \n",
       "\n",
       "  Council District Census Tract        BIN           BBL  \\\n",
       "0              1.0        201.0  1003223.0  1.002690e+09   \n",
       "1              1.0        201.0  1003223.0  1.002690e+09   \n",
       "2              1.0        201.0  1003223.0  1.002690e+09   \n",
       "3              1.0        201.0  1003223.0  1.002690e+09   \n",
       "4              1.0        201.0  1003223.0  1.002690e+09   \n",
       "\n",
       "                                                 NTA       lon        lat  \\\n",
       "0  Lower East Side                               ... -73.98526  40.713764   \n",
       "1  Lower East Side                               ... -73.98526  40.713764   \n",
       "2  Lower East Side                               ... -73.98526  40.713764   \n",
       "3  Lower East Side                               ... -73.98526  40.713764   \n",
       "4  Lower East Side                               ... -73.98526  40.713764   \n",
       "\n",
       "  school_dist  \n",
       "0          01  \n",
       "1          01  \n",
       "2          01  \n",
       "3          01  \n",
       "4          01  \n",
       "\n",
       "[5 rows x 176 columns]"
      ]
     },
     "execution_count": 3,
     "metadata": {},
     "output_type": "execute_result"
    }
   ],
   "source": [
    "combined.head()"
   ]
  },
  {
   "cell_type": "markdown",
   "id": "5ff6ba7b",
   "metadata": {},
   "source": [
    "# 1) Introduction\n",
    "\n",
    "we began investigating possible relationships between SAT scores and demographics. In order to do this, we acquired several datasets containing information about **New York City public schools**. We **cleaned** them, then **combined** them into a single dataset named combined that we're now ready to analyze and visualize.\n",
    "\n",
    "In this lesson, we'll discover correlations, create plots, and then make maps. The first thing we'll do is find any **correlations** between `columns` and `sat_score`.\n"
   ]
  },
  {
   "cell_type": "markdown",
   "id": "76a23ac3",
   "metadata": {},
   "source": [
    "# 2 - 3) Finding Correlations With the r Value\n",
    "\n",
    "We'll be using the **r value**, also called Pearson's correlation coefficient, to measure how closely two sequences of numbers are correlated.\n",
    "\n",
    "An **r value** falls between `-1` and `1`. The value determines whether two columns are:\n",
    "\n",
    "* positively correlated;\n",
    "* not correlated;\n",
    "* or negatively correlated.\n",
    "\n",
    "The closer to `1` the **r value** is, the stronger the positive correlation between the two columns. The closer to `-1` the **r value** is, the stronger the negative correlation (i.e., the more \"opposite\" the columns are). The closer to `0`, the weaker the correlation.\n",
    "\n",
    "In general, r values above `.25` or below `-.25` are enough to qualify a correlation as interesting.\n",
    "\n",
    "We can use the pandas `pandas.DataFrame.corr()` method to find correlations between columns in a dataframe. The method returns a new dataframe where the index for each column and row is the name of a column in the original dataset."
   ]
  },
  {
   "cell_type": "markdown",
   "id": "a2b3a247",
   "metadata": {},
   "source": [
    "# Instructions\n",
    "\n",
    "1. Use the `pandas.DataFrame.corr()` method on the combined dataframe to find all possible correlations. Assign the result to correlations.\n",
    "    * Ensure you use the `numeric_only=True` argument to only return the correlations between numeric columns.\n",
    "\n",
    "1. Filter correlations so that it only shows correlations for the column `sat_score`.\n",
    "1. Display all of the rows in correlations and examine them."
   ]
  },
  {
   "cell_type": "code",
   "execution_count": 4,
   "id": "40710f8e",
   "metadata": {},
   "outputs": [
    {
     "name": "stdout",
     "output_type": "stream",
     "text": [
      "SAT Critical Reading Avg. Score    0.995822\n",
      "SAT Math Avg. Score                0.990895\n",
      "SAT Writing Avg. Score             0.995898\n",
      "sat_score                          1.000000\n",
      "AP Test Takers                     0.392718\n",
      "                                     ...   \n",
      "Census Tract                       0.060592\n",
      "BIN                                0.069487\n",
      "BBL                                0.072702\n",
      "lon                               -0.057324\n",
      "lat                               -0.072652\n",
      "Name: sat_score, Length: 74, dtype: float64\n"
     ]
    }
   ],
   "source": [
    "correlations = combined.corr(numeric_only=True)['sat_score']\n",
    "print(correlations)"
   ]
  },
  {
   "cell_type": "markdown",
   "id": "b5fc65d3",
   "metadata": {},
   "source": [
    "# 4 - 5) Plotting Enrollment With the Plot() Accessor\n",
    "\n",
    "Unsurprisingly, `SAT Critical Reading Avg. Score, SAT Math Avg. Score, SAT Writing Avg. Score, and sat_score` are strongly correlated with `sat_score`.\n",
    "\n",
    "We can also make some other observations:\n",
    "\n",
    "1. `total_enrollment` has a strong positive correlation with sat_score. In order words, larger schools tend to do better on the SAT.\n",
    "\n",
    "    * Other columns that are proxies for **enrollment** correlate similarly. These include `total_students, N_s, N_p, N_t, AP Test Takers, Total Exams Taken, and NUMBER OF SECTIONS`.\n",
    "\n",
    "1. Both the percentage of females (`female_per`) and number of females (`female_num`) at a school correlate **positively** with SAT score, whereas the percentage of males (`male_per`) and the number of males (`male_num`) correlate **negatively**. This could indicate that women do better on the SAT than men.\n",
    "\n",
    "1. Teacher and student ratings of **school safety** (`saf_t_11`, and `saf_s_11`) correlate with sat_score.\n",
    "\n",
    "1. Student ratings of school **academic standards** (`aca_s_11`) correlate with `sat_score`, but this does not hold for ratings from teachers and parents (`aca_p_11` and `aca_t_11`).\n",
    "\n",
    "1. There is significant racial inequality in SAT scores (`white_per`, `asian_per`, `black_per`, `hispanic_per`).\n",
    "\n",
    "1. The percentage of students eligible for free or reduced school lunch based on household income (`frl_percent`) has a strong negative correlation with SAT scores.\n",
    "\n",
    "Since **enrollment** seems to have such a strong correlation, let's make a scatterplot of `total_enrollment` vs `sat_score`. Each point in the scatterplot represents a high school, so we'll be able to see if there are any interesting patterns.\n",
    "\n",
    "We can plot columns in a dataframe using the [pandas.DataFrame.plot()](https://pandas.pydata.org/pandas-docs/stable/reference/api/pandas.DataFrame.plot.html) accessor on a dataframe.\n",
    "\n",
    "We can also specify a certain plot type. For example, `df.plot.scatter(x=\"A\", y=\"B\")` creates a scatterplot of columns A and B."
   ]
  },
  {
   "cell_type": "markdown",
   "id": "c9a82819",
   "metadata": {},
   "source": [
    "## Instructions\n",
    "\n",
    "Create a scatterplot of `total_enrollment` (on the horizontal axis) versus `sat_score` (on the vertical axis)."
   ]
  },
  {
   "cell_type": "code",
   "execution_count": 5,
   "id": "71ea26f9",
   "metadata": {},
   "outputs": [
    {
     "data": {
      "image/png": "[encoded data removed]",
      "text/plain": [
       "<Figure size 640x480 with 1 Axes>"
      ]
     },
     "metadata": {},
     "output_type": "display_data"
    }
   ],
   "source": [
    "import matplotlib.pyplot as plt\n",
    "\n",
    "combined.plot.scatter(x=\"total_enrollment\",y=\"sat_score\")\n",
    "plt.show()\n"
   ]
  },
  {
   "cell_type": "markdown",
   "id": "8a4d0917",
   "metadata": {},
   "source": [
    "# 6) Exploring Schools with Low SAT Scores and Enrollment\n",
    "\n",
    "Judging from the plot it was just created, it doesn't appear there's a strong correlation between `sat_score` and `total_enrollment`.\n",
    "\n",
    "However, there's an interesting cluster of points at the bottom left where `total_enrollment` and `sat_score` are both low. This cluster may be what's making the **r value** so high. It's worth extracting the names of the schools in this cluster so we can research them further.\n"
   ]
  },
  {
   "cell_type": "markdown",
   "id": "483a0751",
   "metadata": {},
   "source": [
    "## Instructions\n",
    "\n",
    "1. Filter the combined dataframe to keep only those rows where `total_enrollment` is under `1000` and sat_score is under 1000. Assign the result to low_enrollment.\n",
    "\n",
    "1. Display all of the items in the School Name column of low_enrollment.\n",
    "\n",
    "1. Use Wikipedia and Google to research the names of the schools. Can you discover anything interesting about them?"
   ]
  },
  {
   "cell_type": "code",
   "execution_count": 15,
   "id": "858d2512",
   "metadata": {},
   "outputs": [
    {
     "name": "stdout",
     "output_type": "stream",
     "text": [
      "2227      INTERNATIONAL COMMUNITY HIGH SCHOOL\n",
      "2228      INTERNATIONAL COMMUNITY HIGH SCHOOL\n",
      "2229      INTERNATIONAL COMMUNITY HIGH SCHOOL\n",
      "2230      INTERNATIONAL COMMUNITY HIGH SCHOOL\n",
      "2231      INTERNATIONAL COMMUNITY HIGH SCHOOL\n",
      "                        ...                  \n",
      "7834    PAN AMERICAN INTERNATIONAL HIGH SCHOO\n",
      "7835    PAN AMERICAN INTERNATIONAL HIGH SCHOO\n",
      "7836    PAN AMERICAN INTERNATIONAL HIGH SCHOO\n",
      "7837    PAN AMERICAN INTERNATIONAL HIGH SCHOO\n",
      "7838    PAN AMERICAN INTERNATIONAL HIGH SCHOO\n",
      "Name: School Name, Length: 194, dtype: object\n"
     ]
    }
   ],
   "source": [
    "low_enrollment = combined[(combined['total_enrollment']<1000) & (combined['sat_score']<1000) & (combined['sat_score']>0)]\n",
    "\n",
    "print(low_enrollment['School Name'])"
   ]
  },
  {
   "cell_type": "markdown",
   "id": "a0166b91",
   "metadata": {},
   "source": [
    "# 7) Plotting Language Learning Percentage\n",
    "\n",
    "Our research on the last screen revealed that most of the high schools with **low total enrollment** and **low SAT scores** have high percentages of English language learners. This indicates that it's actually `ell_percent` that correlates strongly with `sat_score`, rather than `total_enrollment`. To explore this relationship further, let's plot out `ell_percent` vs `sat_score`."
   ]
  },
  {
   "cell_type": "code",
   "execution_count": 16,
   "id": "b283b910",
   "metadata": {},
   "outputs": [
    {
     "data": {
      "image/png": "[encoded data removed]",
      "text/plain": [
       "<Figure size 640x480 with 1 Axes>"
      ]
     },
     "metadata": {},
     "output_type": "display_data"
    }
   ],
   "source": [
    "combined.plot.scatter(x=\"ell_percent\",y=\"sat_score\")\n",
    "plt.show()"
   ]
  },
  {
   "cell_type": "markdown",
   "id": "1c77bdf1",
   "metadata": {},
   "source": [
    "# 8)Calculating District-Level Statistics\n",
    "\n",
    "One way to make very granular statistics easier to read is to aggregate them. In this case, we aggregate by district, which enables us to understand how `ell_percent` varies **district-by-district** instead of the unintelligibly granular **school-by-school** variation.\n",
    "\n",
    "In a previous lesson, we used the `pandas.DataFrame.groupby()` method followed by the `agg()` method on the resulting object to find the mean class size for each unique `DBN`. The principle is exactly the same, except that here we'd find the mean of each column for each unique value in `school_dist`."
   ]
  },
  {
   "cell_type": "markdown",
   "id": "3dfc4d56",
   "metadata": {},
   "source": [
    "## Instructions\n",
    "\n",
    "1. Find the average values for each column for each `school_dist` in `combined`.\n",
    "\n",
    "    * Use the `pandas.DataFrame.groupby()` method to group combined by `school_dist`.\n",
    "    * Use the `agg()` method with the string 'mean' as an argument to calculate the average of each group. This approach leverages pandas' built-in functionality for better readability and performance.\n",
    "    * Assign the result to the variable `districts`.\n",
    "\n",
    "1. Reset the index of districts, making `school_dist` a column again.\n",
    "    * Use the `pandas.DataFrame.reset_index()` method with the keyword argument `inplace=True`.\n",
    "\n",
    "1. Display the first few rows of districts to verify that everything went okay."
   ]
  }
 ],
 "metadata": {
  "kernelspec": {
   "display_name": "Python 3",
   "language": "python",
   "name": "python3"
  },
  "language_info": {
   "codemirror_mode": {
    "name": "ipython",
    "version": 3
   },
   "file_extension": ".py",
   "mimetype": "text/x-python",
   "name": "python",
   "nbconvert_exporter": "python",
   "pygments_lexer": "ipython3",
   "version": "3.12.1"
  }
 },
 "nbformat": 4,
 "nbformat_minor": 5
}
