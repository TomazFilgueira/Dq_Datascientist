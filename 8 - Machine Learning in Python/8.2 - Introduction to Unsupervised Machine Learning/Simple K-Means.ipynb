{
 "cells": [
  {
   "cell_type": "markdown",
   "metadata": {},
   "source": [
    "# Fetch coordinates from centroids"
   ]
  },
  {
   "cell_type": "code",
   "execution_count": null,
   "metadata": {},
   "outputs": [],
   "source": [
    "centroids = customers.sample(n=2) #two clusters\n",
    "\n",
    "def fetch_coordinates(df):\n",
    "    age_centroid_1 = df.iloc[0, 0]\n",
    "    score_centroid_1 = df.iloc[0, 1]\n",
    "    age_centroid_2 = df.iloc[1, 0]\n",
    "    score_centroid_2 = df.iloc[1, 1]\n",
    "    return age_centroid_1, score_centroid_1, age_centroid_2, score_centroid_2\n",
    "\n",
    "age_centroid_1,score_centroid_1,age_centroid_2,score_centroid_2 = fetch_coordinates(centroids)\n",
    "Age = [age_centroid_1, age_centroid_2]\n",
    "Score = [score_centroid_1, score_centroid_2]"
   ]
  },
  {
   "cell_type": "markdown",
   "metadata": {},
   "source": [
    "# Calculate distance from every rows (x,y only) to centroid"
   ]
  },
  {
   "cell_type": "code",
   "execution_count": null,
   "metadata": {},
   "outputs": [],
   "source": [
    "calculate_distance(row,age_centroid,score_centroid):\n",
    "    \n",
    "    distance = np.sqrt((row.loc['Age'] - age_centroid)**2 + (row.loc['Spending Score'] - score_centroid)**2)\n",
    "    \n",
    "    return distance\n",
    "\n",
    "customers['dist_centroid_1'] = customers.apply(lambda x: calculate_distance(x,age_centroid_1,score_centroid_1),axis=1)\n",
    "\n",
    "customers['dist_centroid_2'] = customers.apply(lambda x: calculate_distance(x,age_centroid_2,score_centroid_2),axis=1)"
   ]
  },
  {
   "cell_type": "markdown",
   "metadata": {},
   "source": [
    "# New Centroids position"
   ]
  },
  {
   "cell_type": "code",
   "execution_count": null,
   "metadata": {},
   "outputs": [],
   "source": [
    "#generating mean for age and score groupby cluster\n",
    "new_centroids = customers.groupby('cluster').mean().reset_index().drop(['cluster'],axis=1)\n"
   ]
  },
  {
   "cell_type": "markdown",
   "metadata": {},
   "source": [
    "# Wrapping everthing in a single function\n"
   ]
  },
  {
   "cell_type": "markdown",
   "metadata": {},
   "source": [
    "def create_clusters(customers):\n",
    "    centroids = customers.sample(2)\n",
    "    \n",
    "    #Extracting centroids coordinates\n",
    "    age_centroid_1, score_centroid_1, age_centroid_2, score_centroid_2 = fetch_coordinates(centroids)\n",
    "\n",
    "    #Calculating distances and Assigning clusters\n",
    "    customers = calculate_distance_assign_clusters(customers,centroids)\n",
    "      \n",
    "    #generating mean for age and score groupby cluster\n",
    "    new_centroids = customers.groupby('cluster').mean().reset_index().drop(['cluster'],axis=1)\n",
    "\n",
    "    customers = calculate_distance_assign_clusters(customers,new_centroids)\n",
    "    \n",
    "    return customers['cluster']\n",
    "\n",
    "clusters = create_clusters(customers)"
   ]
  },
  {
   "cell_type": "markdown",
   "metadata": {},
   "source": [
    "# Scatter plot"
   ]
  },
  {
   "cell_type": "code",
   "execution_count": null,
   "metadata": {},
   "outputs": [],
   "source": [
    "# Plot the first centroid in red\n",
    "sns.scatterplot(data=centroids.head(1), x='Age', y='Spending Score', color='blue', s=400)\n",
    "\n",
    "# Plot the second centroid in blue\n",
    "sns.scatterplot(data=centroids.tail(1), x='Age', y='Spending Score', color='red', s=400)\n",
    "plt.show()"
   ]
  }
 ],
 "metadata": {
  "kernelspec": {
   "display_name": "Python 3",
   "language": "python",
   "name": "python3"
  },
  "language_info": {
   "codemirror_mode": {
    "name": "ipython",
    "version": 3
   },
   "file_extension": ".py",
   "mimetype": "text/x-python",
   "name": "python",
   "nbconvert_exporter": "python",
   "pygments_lexer": "ipython3",
   "version": "3.9.13"
  }
 },
 "nbformat": 4,
 "nbformat_minor": 2
}
