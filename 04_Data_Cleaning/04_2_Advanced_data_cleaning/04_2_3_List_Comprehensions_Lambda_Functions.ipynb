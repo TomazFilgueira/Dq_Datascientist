{
  "cells": [
    {
      "cell_type": "markdown",
      "id": "e42cf384",
      "metadata": {
        "id": "e42cf384"
      },
      "source": [
        "# 1) JSON Format\n",
        "\n",
        "The data set we'll use in this lesson is in a format called JavaScript Object Notation (**JSON**). As the name indicates, JSON originated from the JavaScript language, but has now become a language-independent format.\n",
        "\n",
        "From a Python perspective, JSON can be thought of as a collection of Python objects nested inside each other.\n",
        "\n",
        "![Alt text]([https://s3.amazonaws.com/dq-content/355/json.svg)\n",
        "\n",
        "The JSON above is a list, where each element in the list is a dictionary. Each of the dictionaries have the same keys, and one of the values of each dictionary is itself a list.\n",
        "\n",
        "The Python json module contains a number of functions to make working with JSON objects easier. We can use the `json.loads()` method to convert JSON data contained in a string to the equivalent set of Python objects:"
      ]
    },
    {
      "cell_type": "code",
      "execution_count": null,
      "id": "f03900b3",
      "metadata": {
        "colab": {
          "base_uri": "https://localhost:8080/"
        },
        "id": "f03900b3",
        "outputId": "545acb29-571e-473d-9fe5-bc369c3776b3"
      },
      "outputs": [],
      "source": [
        "json_string = \"\"\"\n",
        "[\n",
        "  {\n",
        "    \"name\": \"Sabine\",\n",
        "    \"age\": 36,\n",
        "    \"favorite_foods\": [\"Pumpkin\", \"Oatmeal\"]\n",
        "  },\n",
        "  {\n",
        "    \"name\": \"Zoe\",\n",
        "    \"age\": 40,\n",
        "    \"favorite_foods\": [\"Chicken\", \"Pizza\", \"Chocolate\"]\n",
        "  },\n",
        "  {\n",
        "    \"name\": \"Heidi\",\n",
        "    \"age\": 40,\n",
        "    \"favorite_foods\": [\"Caesar Salad\"]\n",
        "  }\n",
        "]\n",
        "\"\"\"\n",
        "\n",
        "import json\n",
        "json_obj = json.loads(json_string)\n",
        "print(type(json_obj))\n",
        "\n",
        "print(json_obj)"
      ]
    },
    {
      "cell_type": "markdown",
      "id": "6c4d840b",
      "metadata": {
        "id": "6c4d840b"
      },
      "source": [
        "We can observe a few things:\n",
        "\n",
        "The formatting from our original string is gone. This is because printing Python lists and dictionaries has a simple formatting structure.\n",
        "\n",
        "The order of the keys in the dictionary may appear different. While Python dictionaries maintain insertion order in modern versions, the JSON specification does not guarantee key order preservation. This means that when working with JSON data, the order of keys might not always be consistent."
      ]
    },
    {
      "cell_type": "markdown",
      "id": "9c4a9e3a",
      "metadata": {
        "id": "9c4a9e3a"
      },
      "source": [
        "# Instructions\n",
        "\n",
        "Let's practice using `json.loads()` to convert JSON data from a string to Python objects!\n",
        "\n",
        "We have created a JSON string, world_cup_str, which contains data about games from the 2018 Football World Cup.\n",
        "\n",
        "1. Import the json module.\n",
        "\n",
        "1. Use `json.loads()` to convert `world_cup_str` to a Python object. Assign the result to `world_cup_obj`."
      ]
    },
    {
      "cell_type": "code",
      "execution_count": null,
      "id": "7d2711d0",
      "metadata": {
        "id": "7d2711d0"
      },
      "outputs": [],
      "source": [
        "world_cup_str = \"\"\"\n",
        "[\n",
        "    {\n",
        "        \"team_1\": \"France\",\n",
        "        \"team_2\": \"Croatia\",\n",
        "        \"game_type\": \"Final\",\n",
        "        \"score\" : [4, 2]\n",
        "    },\n",
        "    {\n",
        "        \"team_1\": \"Belgium\",\n",
        "        \"team_2\": \"England\",\n",
        "        \"game_type\": \"3rd/4th Playoff\",\n",
        "        \"score\" : [2, 0]\n",
        "    }\n",
        "]\n",
        "\"\"\"\n",
        "\n",
        "import json\n",
        "\n",
        "world_cup_obj = json.loads(world_cup_str)"
      ]
    },
    {
      "cell_type": "markdown",
      "id": "36becbb3",
      "metadata": {
        "id": "36becbb3"
      },
      "source": [
        "# 2) Reading a JSON file\n",
        "\n",
        "One of the places where the JSON format is commonly used is in the results returned by an Application programming interface (**API**). APIs are interfaces that can be used to send and transmit data between different computer systems\n",
        "\n",
        "The data set from this lesson — `hn_2014.json` — was downloaded from the Hacker News API. It's a different set of data from the CSV we've been using in the previous two lessons, and it contains data about stories from Hacker News in 2014.\n",
        "\n",
        "To read a file from JSON format, we use the `json.load()` function. Note that the function is `json.load()` without an \"s\" at the end. The `json.loads()` function is used for **loading JSON data from a string** (\"loads\" is short for \"load string\"), whereas the `json.load()` function is used to **load from a file object**. Let's look at how we would read that in our data:\n",
        "\n",
        "*Note that we're using with to open the file, which is a better practice than just using `open()`*\n",
        "\n",
        "```\n",
        "import json\n",
        "with open(\"hn_2014.json\", \"r\") as file:\n",
        "    hn = json.load(file)\n",
        "\n",
        "print(type(hn))\n",
        "```\n",
        "\n",
        "Our hn variable is a **list**. Let's find out **how many objects** are in the list, and the type of the first object (which will almost always be the type of every object in the list in **JSON data**):\n",
        "\n",
        "```\n",
        "print(len(hn))\n",
        "print(type(hn[0]))\n",
        "```\n",
        "\n",
        "Our data set contains **35,806 dictionary objects**, each representing a Hacker News story. In order to understand the format of our data set, we'll print the keys of the first dictionary:\n",
        "\n",
        "```\n",
        "print(hn[0].keys())\n",
        "\n",
        "dict_keys(['author', 'numComments', 'points', 'url', 'storyText', 'createdAt', 'tags', 'createdAtI', 'title', 'objectId'])\n",
        "```\n",
        "\n",
        "If we recall the data set we used in the previous two lessons, we can see some similarities. There are keys representing the title, **URL**, **points**, **number of comments**, and **date**, as well as some **others** that are less familiar to us. Here is a summary of the keys and the data that they contain:\n",
        "\n",
        "`author`: The username of the person who submitted the story.\n",
        "\n",
        "`createdAt`: The date and time at which the story was created.\n",
        "\n",
        "`createdAtI`: An integer value representing the date and time at which the story was created.\n",
        "\n",
        "`numComments`: The number of comments that were made on the story.\n",
        "\n",
        "`objectId`: The unique identifier from Hacker News for the story.\n",
        "\n",
        "`points`: The number of points the story acquired, calculated as the total number of upvotes minus the total number of downvotes.\n",
        "\n",
        "`storyText`: The text of the story (if the story contains text).\n",
        "\n",
        "`tags`: A list of tags associated with the story.\n",
        "\n",
        "`title`: The title of the story.\n",
        "\n",
        "`url`: The URL that the story links to (if the story links to a URL)."
      ]
    },
    {
      "cell_type": "markdown",
      "id": "cf01e2fa",
      "metadata": {
        "id": "cf01e2fa"
      },
      "source": [
        "## Instructions\n",
        "\n",
        "1. Use the `open()` function to open the `hn_2014.json` file as a file object.\n",
        "\n",
        "1. Use the `json.load()` function to parse the file object and assign the result to hn."
      ]
    },
    {
      "cell_type": "code",
      "execution_count": null,
      "id": "7896f623",
      "metadata": {
        "id": "7896f623"
      },
      "outputs": [],
      "source": [
        "import json\n",
        "#Open via google colab\n",
        "with open(\"/content/hn_2014.json\", \"r\") as file:\n",
        "    hn = json.load(file)"
      ]
    },
    {
      "cell_type": "markdown",
      "id": "b141571d",
      "metadata": {
        "id": "b141571d"
      },
      "source": [
        "# 3 Deleting Dictionary Keys\n",
        "\n",
        "Let's look at the first dictionary in full. To make it easier to understand, we're going to create a function which will print a JSON object with formatting to make it easier to read.\n",
        "\n",
        "The function will use the `json.dumps()` function (\"**dump string**\") which does the opposite of the ``json.loads()`` function — it takes a **JSON object and returns a string version** of it.\n",
        "\n",
        "The `json.dumps()` function accepts arguments that can specify formatting for the string, which we'll use to make things easier to read:"
      ]
    },
    {
      "cell_type": "code",
      "execution_count": null,
      "id": "6mfXg_wIjAS_",
      "metadata": {
        "colab": {
          "base_uri": "https://localhost:8080/"
        },
        "id": "6mfXg_wIjAS_",
        "outputId": "29b09521-7c6f-40d9-c3cf-17a62ac3d9b4"
      },
      "outputs": [],
      "source": [
        "def jprint(obj):\n",
        "    # create a formatted string of the Python JSON object\n",
        "    text = json.dumps(obj, sort_keys=True, indent=4)\n",
        "    print(text)\n",
        "\n",
        "first_story = hn[0]\n",
        "jprint(first_story)"
      ]
    },
    {
      "cell_type": "markdown",
      "id": "FPItnZawjR_6",
      "metadata": {
        "id": "FPItnZawjR_6"
      },
      "source": [
        "You may notice that the `createdAt` and `createdAtI` keys both have the date and time data in two different formats. Because the format of `createdAt` is much easier to understand, let's do some data cleaning by deleting the `createdAtI` key from every dictionary.\n",
        "\n",
        "To **delete** a key from a dictionary, we can use the `del` statement. Let's learn the syntax by looking at a simple example:"
      ]
    },
    {
      "cell_type": "code",
      "execution_count": null,
      "id": "HiTEI-ePjwGK",
      "metadata": {
        "colab": {
          "base_uri": "https://localhost:8080/"
        },
        "id": "HiTEI-ePjwGK",
        "outputId": "0850fdcd-592c-43e5-f4fa-7ee1b5b309fb"
      },
      "outputs": [],
      "source": [
        "d = {'a': 1, 'b': 2, 'c': 3}\n",
        "del d['a']\n",
        "print(d)"
      ]
    },
    {
      "cell_type": "markdown",
      "id": "kMTwVEW2kDvy",
      "metadata": {
        "id": "kMTwVEW2kDvy"
      },
      "source": [
        "We can create a function using `del` that will return a copy of our dictionary with the key removed.\n",
        "\n",
        "The dictionary returned by the function no longer includes the `createdAtI` key."
      ]
    },
    {
      "cell_type": "code",
      "execution_count": null,
      "id": "hck5fZ7XkQK6",
      "metadata": {
        "colab": {
          "base_uri": "https://localhost:8080/"
        },
        "id": "hck5fZ7XkQK6",
        "outputId": "9a64eeaf-f681-4356-c5f8-b4ff1ccbe46a"
      },
      "outputs": [],
      "source": [
        "def del_key(dict_, key):\n",
        "    # create a copy so we don't\n",
        "    # modify the original dict\n",
        "    modified_dict = dict_.copy()\n",
        "    del modified_dict[key]\n",
        "    return modified_dict\n",
        "\n",
        "#Let's use this function to delete the createdAtI key from first_story:\n",
        "\n",
        "first_story = del_key(first_story, 'createdAtI')\n",
        "jprint(first_story)"
      ]
    },
    {
      "cell_type": "markdown",
      "id": "zNYU_OVbkerV",
      "metadata": {
        "id": "zNYU_OVbkerV"
      },
      "source": [
        "## Instructions\n",
        "\n",
        "Let's use a loop and the `del_key()` function to remove the createdAtI key from every story in our Hacker News data set:\n",
        "\n",
        "1. Create an empty list, `hn_clean` to store the cleaned data set.\n",
        "\n",
        "1. Loop over the dictionaries in the hn list. In each iteration:\n",
        "\n",
        "  * Use the `del_key()` function to delete the createdAtI key from the dictionary.\n",
        "\n",
        "  * Append the cleaned dictionary to `hn_clean`."
      ]
    },
    {
      "cell_type": "code",
      "execution_count": null,
      "id": "O05UA9d69jKo",
      "metadata": {
        "id": "O05UA9d69jKo"
      },
      "outputs": [],
      "source": [
        "def del_key(dict_, key):\n",
        "    # create a copy so we don't\n",
        "    # modify the original dict\n",
        "    modified_dict = dict_.copy()\n",
        "    del modified_dict[key]\n",
        "    return modified_dict\n",
        "\n",
        "hn_clean = []\n",
        "\n",
        "for l in hn:\n",
        "    #for each list in hn dict, call function\n",
        "    temp = del_key(l, 'createdAtI')\n",
        "\n",
        "    #append to hn clean\n",
        "    hn_clean.append(temp)"
      ]
    },
    {
      "cell_type": "markdown",
      "id": "y7xTsl6c98mt",
      "metadata": {
        "id": "y7xTsl6c98mt"
      },
      "source": [
        "# 4) Writing List Comprehensions\n",
        "\n",
        "The task we performed previously is an extremely common one. Specifically, we:\n",
        "\n",
        "* Iterated over values in a list.\n",
        "* Performed a transformation on those values.\n",
        "* Assigned the result to a new list.\n",
        "\n",
        "Python includes a special syntax shortcut for tasks that meet these criteria: **List Comprehensions**. A list comprehension provides a concise way of creating lists in a single line of code.\n",
        "\n",
        "List comprehensions can look complex at first, but we are simply reordering the elements of our for loop code. To keep things simple, we'll start with a basic example, where we want to add 1 to each item in a list of integers.\n",
        "\n",
        "![Alt text](https://s3.amazonaws.com/dq-content/355/loop_components.svg)"
      ]
    },
    {
      "cell_type": "code",
      "execution_count": null,
      "id": "5MLqNvku-er1",
      "metadata": {
        "colab": {
          "base_uri": "https://localhost:8080/"
        },
        "id": "5MLqNvku-er1",
        "outputId": "ab085efc-29fa-415b-b1ae-f6743c1f5046"
      },
      "outputs": [],
      "source": [
        "ints = [1, 2, 3, 4]\n",
        "\n",
        "plus_one = []\n",
        "for i in ints:\n",
        "    plus_one.append(i + 1)\n",
        "\n",
        "print(plus_one)"
      ]
    },
    {
      "cell_type": "markdown",
      "id": "7s78e4wh_AUc",
      "metadata": {
        "id": "7s78e4wh_AUc"
      },
      "source": [
        "To transform this structure into a list comprehension, we do the following within brackets:\n",
        "\n",
        "1. Start with the code that transforms each item.\n",
        "1. Continue with our for statement (without a colon).\n",
        "\n",
        "We can then assign the list comprehension to a variable name.\n",
        "\n",
        "Let's look at a example, where we want to multiply each item in the list by **10**:\n",
        "\n",
        "```python\n",
        "times_ten = []\n",
        "for i in ints:\n",
        "    times_ten.append(i * 10)\n",
        "\n",
        "print(times_ten)\n",
        "```\n",
        "\n",
        "To convert this to a list comprehension, we follow the same pattern:\n",
        "\n",
        "![Alt text](https://s3.amazonaws.com/dq-content/355/loop_vs_lc_2.svg)\n",
        "\n",
        "In the example below, we are applying a function to a list of floats to round them to integers:\n",
        "\n",
        "```python\n",
        "floats = [2.1, 8.7, 4.2, 8.9]\n",
        "\n",
        "rounded = []\n",
        "for f in floats:\n",
        "    rounded.append(round(f))\n",
        "\n",
        "print(rounded)\n",
        "```\n",
        "\n",
        "To convert to a list comprehension, we simply rearrange the components:\n",
        "\n",
        "![Alt text](https://s3.amazonaws.com/dq-content/355/loop_vs_lc_3.svg)\n",
        "\n"
      ]
    },
    {
      "cell_type": "markdown",
      "id": "DOPCEznJAqrd",
      "metadata": {
        "id": "DOPCEznJAqrd"
      },
      "source": [
        "## Instructions\n",
        "\n",
        "We are going to write a list comprehension version of the code from the previous screen.\n",
        "\n",
        "![Alt text](https://s3.amazonaws.com/dq-content/355/loop_components_hn.svg)\n",
        "\n",
        "1. Create a list comprehension representation of the loop from the previous screen:\n",
        "\n",
        "* Call the `del_key()` function to remove the `createdAtI` value from each dictionary in the hn list.\n",
        "* Assign the results to a new list, `hn_clean`."
      ]
    },
    {
      "cell_type": "code",
      "execution_count": null,
      "id": "-pjwITOdBMTY",
      "metadata": {
        "id": "-pjwITOdBMTY"
      },
      "outputs": [],
      "source": [
        "hn_clean = [del_key(d, 'createdAtI') for d in hn]"
      ]
    },
    {
      "cell_type": "markdown",
      "id": "sLDfh1NkBPCZ",
      "metadata": {
        "id": "sLDfh1NkBPCZ"
      },
      "source": [
        "# 5) Using List Comprehensions to Transform and Create Lists\n",
        "\n",
        "List comprehensions can be used for many different things. Three common applications are:\n",
        "\n",
        "1. Transforming a list\n",
        "1. Creating a new list\n",
        "1. Reducing a list\n",
        "\n",
        "The first application, **transforming a list**, is the category that all the examples you've seen so far fit under. You are taking an existing list, applying a transformation to every value, and assigning it to a variable.\n",
        "\n",
        "The second application, **creating a new list**, is useful for creating test data or data that is based on a set of numbers.\n",
        "\n",
        "As an example, let's create a list of generic columns names that we could use to create a dataframe using the `range()` function and `f-strings` to combine numbers and text:\n",
        "\n",
        "![Alt text](https://s3.amazonaws.com/dq-content/355/lc_application_2_2_v2.svg)\n",
        "\n",
        "We can then use this to create an empty dataframe with labels:"
      ]
    },
    {
      "cell_type": "code",
      "execution_count": null,
      "id": "JP5iT-TCCX7c",
      "metadata": {
        "colab": {
          "base_uri": "https://localhost:8080/"
        },
        "id": "JP5iT-TCCX7c",
        "outputId": "7f72798e-4329-4535-cc45-0c517e7fa3c5"
      },
      "outputs": [],
      "source": [
        "import numpy as np\n",
        "import pandas as pd\n",
        "\n",
        "cols = [f\"col_{i}\" for i in range(1,5)]\n",
        "data = np.zeros((4,4))\n",
        "\n",
        "df = pd.DataFrame(data, columns=cols)\n",
        "print(df)"
      ]
    },
    {
      "cell_type": "markdown",
      "id": "DGigt-AmChlo",
      "metadata": {
        "id": "DGigt-AmChlo"
      },
      "source": [
        "## Instructions\n",
        "\n",
        "Let's use list comprehension to create a new list containing just the URLs from each story.\n",
        "\n",
        "Use a list comprehension to extract the **url** value from each dictionary in `hn_clean`. Assign the result to `urls`"
      ]
    },
    {
      "cell_type": "code",
      "execution_count": null,
      "id": "2hrKE2LKGyI_",
      "metadata": {
        "colab": {
          "base_uri": "https://localhost:8080/"
        },
        "id": "2hrKE2LKGyI_",
        "outputId": "e0457968-3fdc-44b5-919f-f03c90916289"
      },
      "outputs": [],
      "source": [
        "\n",
        "#1) extract url from dict key ['url']\n",
        "#2) loop over hn_clean\n",
        "urls = [new_url['url'] for new_url in hn_clean]\n",
        "print(urls[:5])"
      ]
    },
    {
      "cell_type": "markdown",
      "id": "GwmUAR-CHY7d",
      "metadata": {
        "id": "GwmUAR-CHY7d"
      },
      "source": [
        "# 6)  Using List Comprehensions to Reduce a List\n",
        "\n",
        "The last common application of list comprehensions is **reducing a list**. Let's say we had a list of integers and we wanted to remove any integers that were smaller than 50. We could do this by adding an if statement to our loop:\n",
        "\n",
        "![Alt text](https://s3.amazonaws.com/dq-content/355/lc_application_3_1.svg)\n",
        "\n",
        "Our loop has one new component — the if statement, which we've colored yellow. Notice that instead of a transformation, we have just the list item itself `(i)` in red. Both if statements and transformations are **optional** in list comprehensions, but we must include some value to populate the elements in the new list.\n",
        "\n",
        "To include an if statement in a list comprehension, we include it at the very end, before the closing bracket:\n",
        "\n",
        "![Alt text](https://s3.amazonaws.com/dq-content/355/lc_application_3_2.svg)\n",
        "\n",
        "Let's look at how we could use this to quickly **count the number of stories that have comments**. We'll start with a version using a loop:"
      ]
    },
    {
      "cell_type": "code",
      "execution_count": null,
      "id": "jQP4oetWIFTV",
      "metadata": {
        "colab": {
          "base_uri": "https://localhost:8080/"
        },
        "id": "jQP4oetWIFTV",
        "outputId": "fe7eb4e6-2f6b-465c-c5a4-e10ec72ad486"
      },
      "outputs": [],
      "source": [
        "has_comments = []\n",
        "\n",
        "for d in hn_clean:\n",
        "    if d['numComments'] > 0:\n",
        "        has_comments.append(d)\n",
        "\n",
        "num_comments = len(has_comments)\n",
        "print(num_comments)"
      ]
    },
    {
      "cell_type": "code",
      "execution_count": null,
      "id": "yh2RZ8bkII2s",
      "metadata": {
        "colab": {
          "base_uri": "https://localhost:8080/"
        },
        "id": "yh2RZ8bkII2s",
        "outputId": "c1d8a236-fe49-4b6e-a07f-d44057902d74"
      },
      "outputs": [],
      "source": [
        "#Now, let's use a list comprehension to perform the same calculation:\n",
        "\n",
        "has_comments = [d for d in hn_clean if d['numComments'] > 0]\n",
        "\n",
        "num_comments = len(has_comments)\n",
        "print(num_comments)"
      ]
    },
    {
      "cell_type": "markdown",
      "id": "tWvyBJAIIT0B",
      "metadata": {
        "id": "tWvyBJAIIT0B"
      },
      "source": [
        "## Instructions\n",
        "\n",
        "Let's use list comprehension to count how many stories have **more than 1,000 points.**\n",
        "\n",
        "1. Use list comprehension to create a new list, `thousand_points`:\n",
        "  \n",
        "  * The list should contain values from `hn_clean` where the points key has a value greater than `1000`.\n",
        "\n",
        "1. Count the number of values in `thousand_points` and assign the result to `num_thousand_points`."
      ]
    },
    {
      "cell_type": "code",
      "execution_count": null,
      "id": "YY-lEW8qI9nk",
      "metadata": {
        "colab": {
          "base_uri": "https://localhost:8080/"
        },
        "id": "YY-lEW8qI9nk",
        "outputId": "e8f4589d-2a56-4e50-ec6f-703c3f551305"
      },
      "outputs": [],
      "source": [
        "thousand_points = [d for d in hn_clean if d['points'] > 1000]\n",
        "\n",
        "num_thousand_points = len(thousand_points)\n",
        "print(num_thousand_points)"
      ]
    },
    {
      "cell_type": "markdown",
      "id": "9IiL3kLmJA4s",
      "metadata": {
        "id": "9IiL3kLmJA4s"
      },
      "source": [
        "# 7) Passing Functions as Arguments\n",
        "\n",
        "What if we wanted to use built-in functions to work with data in JSON form?\n",
        "\n",
        "Let's use our demo JSON object to try and see what happens. First, we'll quickly remind ourselves of the data:"
      ]
    },
    {
      "cell_type": "code",
      "execution_count": null,
      "id": "ET3uQMqvJXk2",
      "metadata": {
        "colab": {
          "base_uri": "https://localhost:8080/"
        },
        "id": "ET3uQMqvJXk2",
        "outputId": "71f795d2-c191-4fe3-cf07-7f41a93d004e"
      },
      "outputs": [],
      "source": [
        "jprint(json_obj)"
      ]
    },
    {
      "cell_type": "code",
      "execution_count": null,
      "id": "cqrUkKJ_JkiT",
      "metadata": {
        "colab": {
          "base_uri": "https://localhost:8080/",
          "height": 159
        },
        "id": "cqrUkKJ_JkiT",
        "outputId": "027492ce-5ca6-429c-8d09-8227c9ae0aab"
      },
      "outputs": [],
      "source": [
        "# Let's try and use Python to return the dictionary of the person with the lowest age:\n",
        "min(json_obj)"
      ]
    },
    {
      "cell_type": "markdown",
      "id": "7PjwFpnLKIu6",
      "metadata": {
        "id": "7PjwFpnLKIu6"
      },
      "source": [
        "We get an error because Python doesn't have any way to tell whether one dictionary object is \"greater\" than another.\n",
        "\n",
        "There is a way we can actually tell functions like `min()`, `max()`, and `sorted()` how to sort complex objects like dictionaries and lists of lists. We do this by using the optional `key argument`. The official Python documentation contains the following excerpt that describes how the argument works:\n",
        "\n",
        "  *`key` specifies a function of one argument that is used to extract a **comparison** key from each list element. The key corresponding to each item in the list is calculated once and then used for the entire sorting process*\n",
        "\n",
        "  This excerpt tells us we need to specify a `function` as an argument to control the comparison between values"
      ]
    },
    {
      "cell_type": "markdown",
      "id": "-YE2hVH4LGq7",
      "metadata": {
        "id": "-YE2hVH4LGq7"
      },
      "source": [
        "## Example\n",
        "\n"
      ]
    },
    {
      "cell_type": "code",
      "execution_count": null,
      "id": "m81Ht4D4LJpD",
      "metadata": {
        "colab": {
          "base_uri": "https://localhost:8080/",
          "height": 35
        },
        "id": "m81Ht4D4LJpD",
        "outputId": "634b815c-4af8-4888-b2a0-fe3d4e77db36"
      },
      "outputs": [],
      "source": [
        "def greet():\n",
        "    return \"hello\"\n",
        "\n",
        "greet()"
      ]
    },
    {
      "cell_type": "markdown",
      "id": "0rg72bhALNc8",
      "metadata": {
        "id": "0rg72bhALNc8"
      },
      "source": [
        "If we try to examine the type of our function, we are unsuccessful:"
      ]
    },
    {
      "cell_type": "code",
      "execution_count": null,
      "id": "GY1OuIVjLMhZ",
      "metadata": {
        "colab": {
          "base_uri": "https://localhost:8080/"
        },
        "id": "GY1OuIVjLMhZ",
        "outputId": "e74dcdd5-13f4-4b19-a5dd-f5ae4f4f95f8"
      },
      "outputs": [],
      "source": [
        "t = type(greet())\n",
        "print(t)"
      ]
    },
    {
      "cell_type": "markdown",
      "id": "a2IyGj2WLSNT",
      "metadata": {
        "id": "a2IyGj2WLSNT"
      },
      "source": [
        "What happens is that `greet()` is executed first; it returns the string \"hello\", and then the `type()` function tells us the type of that string:\n",
        "\n",
        "![Alt text](https://s3.amazonaws.com/dq-content/355/type_of_func_1.svg)\n",
        "\n",
        "The parentheses are what tells Python to execute the function, so if we **omit** the parentheses we can treat a function like a **variable**, rather than working with the output of the function:"
      ]
    },
    {
      "cell_type": "code",
      "execution_count": null,
      "id": "eDL_QvJYLh_Q",
      "metadata": {
        "colab": {
          "base_uri": "https://localhost:8080/"
        },
        "id": "eDL_QvJYLh_Q",
        "outputId": "5adcfc95-0bbf-46eb-d54e-79d8d06c44ff"
      },
      "outputs": [],
      "source": [
        "t = type(greet)\n",
        "print(t)"
      ]
    },
    {
      "cell_type": "markdown",
      "id": "UWXddctsMhKd",
      "metadata": {
        "id": "UWXddctsMhKd"
      },
      "source": [
        "There are other variable-like behaviors we can also use when we omit the parentheses from a function. For instance, we can assign a function to a new variable name:"
      ]
    },
    {
      "cell_type": "code",
      "execution_count": null,
      "id": "vWsSlHicMjes",
      "metadata": {
        "colab": {
          "base_uri": "https://localhost:8080/",
          "height": 35
        },
        "id": "vWsSlHicMjes",
        "outputId": "1593dd95-9a09-4f97-e5fe-62bdad01fb6a"
      },
      "outputs": [],
      "source": [
        "greet_2 = greet\n",
        "\n",
        "greet_2()"
      ]
    },
    {
      "cell_type": "markdown",
      "id": "SOI8QCibMxlZ",
      "metadata": {
        "id": "SOI8QCibMxlZ"
      },
      "source": [
        "Now that we understand how to treat a function as variable, let's look at how we can run a `function` inside `another function` by passing it as an argument:\n",
        "\n",
        "![Alt text](https://s3.amazonaws.com/dq-content/355/func_as_arg.svg)\n",
        "\n",
        "Now that we have some intuition on how to pass functions as arguments, let's see how we use a function to control the behavior of the `sorted()` function:\n",
        "\n",
        "![Alt text](https://s3.amazonaws.com/dq-content/355/sorted_key.svg)\n",
        "\n",
        "Let's look at the same thing in code form:"
      ]
    },
    {
      "cell_type": "code",
      "execution_count": null,
      "id": "vppmrn0KQ6ii",
      "metadata": {
        "colab": {
          "base_uri": "https://localhost:8080/"
        },
        "id": "vppmrn0KQ6ii",
        "outputId": "12513cad-3ceb-4a43-c34e-9816af892d22"
      },
      "outputs": [],
      "source": [
        "def get_age(json_dict):\n",
        "    return json_dict['age']\n",
        "\n",
        "youngest = min(json_obj, key=get_age)\n",
        "jprint(youngest)"
      ]
    },
    {
      "cell_type": "markdown",
      "id": "bf7kayFpRjOd",
      "metadata": {
        "id": "bf7kayFpRjOd"
      },
      "source": [
        "## Instructions\n",
        "\n",
        "Let's use this technique to find the story that has the **greatest** number of comments.\n",
        "\n",
        "1. Create a \"key function\" that accepts a single dictionary and returns the value from the numComments key.\n",
        "1. Use the max() function with the \"key function\" you just created to find the value from the hn_clean list with the most comments:\n",
        "\n",
        "  * Assign the result to the variable most_comments."
      ]
    },
    {
      "cell_type": "code",
      "execution_count": null,
      "id": "-YPaFVgjTicK",
      "metadata": {
        "colab": {
          "base_uri": "https://localhost:8080/"
        },
        "id": "-YPaFVgjTicK",
        "outputId": "f7b26a29-ddd9-4912-8e2f-e8940e42da65"
      },
      "outputs": [],
      "source": [
        "def key_function(json_dict):\n",
        "    return json_dict['numComments']\n",
        "\n",
        "most_comments = max(hn_clean, key=key_function)\n",
        "print(most_comments)"
      ]
    },
    {
      "cell_type": "markdown",
      "id": "5c8e7dbc",
      "metadata": {},
      "source": []
    }
  ],
  "metadata": {
    "colab": {
      "include_colab_link": true,
      "provenance": []
    },
    "kernelspec": {
      "display_name": "Python 3 (ipykernel)",
      "language": "python",
      "name": "python3"
    },
    "language_info": {
      "codemirror_mode": {
        "name": "ipython",
        "version": 3
      },
      "file_extension": ".py",
      "mimetype": "text/x-python",
      "name": "python",
      "nbconvert_exporter": "python",
      "pygments_lexer": "ipython3",
      "version": "3.12.1"
    }
  },
  "nbformat": 4,
  "nbformat_minor": 5
}
