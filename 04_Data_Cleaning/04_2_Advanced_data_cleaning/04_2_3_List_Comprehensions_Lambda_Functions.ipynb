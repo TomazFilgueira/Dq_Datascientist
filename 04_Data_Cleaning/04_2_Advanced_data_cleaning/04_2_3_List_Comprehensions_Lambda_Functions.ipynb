{
  "cells": [
    {
      "cell_type": "markdown",
      "metadata": {
        "id": "view-in-github",
        "colab_type": "text"
      },
      "source": [
        "<a href=\"https://colab.research.google.com/github/TomazFilgueira/Dq_Datascientist/blob/main/04_Data_Cleaning/04_2_Advanced_data_cleaning/04_2_3_List_Comprehensions_Lambda_Functions.ipynb\" target=\"_parent\"><img src=\"https://colab.research.google.com/assets/colab-badge.svg\" alt=\"Open In Colab\"/></a>"
      ]
    },
    {
      "cell_type": "markdown",
      "id": "e42cf384",
      "metadata": {
        "id": "e42cf384"
      },
      "source": [
        "# 1) JSON Format\n",
        "\n",
        "The data set we'll use in this lesson is in a format called JavaScript Object Notation (**JSON**). As the name indicates, JSON originated from the JavaScript language, but has now become a language-independent format.\n",
        "\n",
        "From a Python perspective, JSON can be thought of as a collection of Python objects nested inside each other.\n",
        "\n",
        "![image.png](attachment:image.png)\n",
        "\n",
        "The JSON above is a list, where each element in the list is a dictionary. Each of the dictionaries have the same keys, and one of the values of each dictionary is itself a list.\n",
        "\n",
        "The Python json module contains a number of functions to make working with JSON objects easier. We can use the `json.loads()` method to convert JSON data contained in a string to the equivalent set of Python objects:"
      ]
    },
    {
      "cell_type": "code",
      "execution_count": null,
      "id": "f03900b3",
      "metadata": {
        "id": "f03900b3",
        "outputId": "072c93c3-bc3e-4042-dbf2-71939f9a18e6"
      },
      "outputs": [
        {
          "name": "stdout",
          "output_type": "stream",
          "text": [
            "<class 'list'>\n",
            "[{'name': 'Sabine', 'age': 36, 'favorite_foods': ['Pumpkin', 'Oatmeal']}, {'name': 'Zoe', 'age': 40, 'favorite_foods': ['Chicken', 'Pizza', 'Chocolate']}, {'name': 'Heidi', 'age': 40, 'favorite_foods': ['Caesar Salad']}]\n"
          ]
        }
      ],
      "source": [
        "json_string = \"\"\"\n",
        "[\n",
        "  {\n",
        "    \"name\": \"Sabine\",\n",
        "    \"age\": 36,\n",
        "    \"favorite_foods\": [\"Pumpkin\", \"Oatmeal\"]\n",
        "  },\n",
        "  {\n",
        "    \"name\": \"Zoe\",\n",
        "    \"age\": 40,\n",
        "    \"favorite_foods\": [\"Chicken\", \"Pizza\", \"Chocolate\"]\n",
        "  },\n",
        "  {\n",
        "    \"name\": \"Heidi\",\n",
        "    \"age\": 40,\n",
        "    \"favorite_foods\": [\"Caesar Salad\"]\n",
        "  }\n",
        "]\n",
        "\"\"\"\n",
        "\n",
        "import json\n",
        "json_obj = json.loads(json_string)\n",
        "print(type(json_obj))\n",
        "\n",
        "print(json_obj)"
      ]
    },
    {
      "cell_type": "markdown",
      "id": "6c4d840b",
      "metadata": {
        "id": "6c4d840b"
      },
      "source": [
        "We can observe a few things:\n",
        "\n",
        "The formatting from our original string is gone. This is because printing Python lists and dictionaries has a simple formatting structure.\n",
        "\n",
        "The order of the keys in the dictionary may appear different. While Python dictionaries maintain insertion order in modern versions, the JSON specification does not guarantee key order preservation. This means that when working with JSON data, the order of keys might not always be consistent."
      ]
    },
    {
      "cell_type": "markdown",
      "id": "9c4a9e3a",
      "metadata": {
        "id": "9c4a9e3a"
      },
      "source": [
        "# Instructions\n",
        "\n",
        "Let's practice using `json.loads()` to convert JSON data from a string to Python objects!\n",
        "\n",
        "We have created a JSON string, world_cup_str, which contains data about games from the 2018 Football World Cup.\n",
        "\n",
        "1. Import the json module.\n",
        "\n",
        "1. Use `json.loads()` to convert `world_cup_str` to a Python object. Assign the result to `world_cup_obj`."
      ]
    },
    {
      "cell_type": "code",
      "execution_count": null,
      "id": "7d2711d0",
      "metadata": {
        "id": "7d2711d0"
      },
      "outputs": [],
      "source": [
        "world_cup_str = \"\"\"\n",
        "[\n",
        "    {\n",
        "        \"team_1\": \"France\",\n",
        "        \"team_2\": \"Croatia\",\n",
        "        \"game_type\": \"Final\",\n",
        "        \"score\" : [4, 2]\n",
        "    },\n",
        "    {\n",
        "        \"team_1\": \"Belgium\",\n",
        "        \"team_2\": \"England\",\n",
        "        \"game_type\": \"3rd/4th Playoff\",\n",
        "        \"score\" : [2, 0]\n",
        "    }\n",
        "]\n",
        "\"\"\"\n",
        "\n",
        "import json\n",
        "\n",
        "world_cup_obj = json.loads(world_cup_str)"
      ]
    },
    {
      "cell_type": "markdown",
      "id": "36becbb3",
      "metadata": {
        "id": "36becbb3"
      },
      "source": [
        "# 2) Reading a JSON file\n",
        "\n",
        "One of the places where the JSON format is commonly used is in the results returned by an Application programming interface (**API**). APIs are interfaces that can be used to send and transmit data between different computer systems\n",
        "\n",
        "The data set from this lesson — `hn_2014.json` — was downloaded from the Hacker News API. It's a different set of data from the CSV we've been using in the previous two lessons, and it contains data about stories from Hacker News in 2014.\n",
        "\n",
        "To read a file from JSON format, we use the `json.load()` function. Note that the function is `json.load()` without an \"s\" at the end. The `json.loads()` function is used for **loading JSON data from a string** (\"loads\" is short for \"load string\"), whereas the `json.load()` function is used to **load from a file object**. Let's look at how we would read that in our data:\n",
        "\n",
        "*Note that we're using with to open the file, which is a better practice than just using `open()`*\n",
        "\n",
        "```\n",
        "import json\n",
        "with open(\"hn_2014.json\", \"r\") as file:\n",
        "    hn = json.load(file)\n",
        "\n",
        "print(type(hn))\n",
        "```\n",
        "\n",
        "Our hn variable is a **list**. Let's find out **how many objects** are in the list, and the type of the first object (which will almost always be the type of every object in the list in **JSON data**):\n",
        "\n",
        "```\n",
        "print(len(hn))\n",
        "print(type(hn[0]))\n",
        "```\n",
        "\n",
        "Our data set contains **35,806 dictionary objects**, each representing a Hacker News story. In order to understand the format of our data set, we'll print the keys of the first dictionary:\n",
        "\n",
        "```\n",
        "print(hn[0].keys())\n",
        "\n",
        "dict_keys(['author', 'numComments', 'points', 'url', 'storyText', 'createdAt', 'tags', 'createdAtI', 'title', 'objectId'])\n",
        "```\n",
        "\n",
        "If we recall the data set we used in the previous two lessons, we can see some similarities. There are keys representing the title, **URL**, **points**, **number of comments**, and **date**, as well as some **others** that are less familiar to us. Here is a summary of the keys and the data that they contain:\n",
        "\n",
        "`author`: The username of the person who submitted the story.\n",
        "\n",
        "`createdAt`: The date and time at which the story was created.\n",
        "\n",
        "`createdAtI`: An integer value representing the date and time at which the story was created.\n",
        "\n",
        "`numComments`: The number of comments that were made on the story.\n",
        "\n",
        "`objectId`: The unique identifier from Hacker News for the story.\n",
        "\n",
        "`points`: The number of points the story acquired, calculated as the total number of upvotes minus the total number of downvotes.\n",
        "\n",
        "`storyText`: The text of the story (if the story contains text).\n",
        "\n",
        "`tags`: A list of tags associated with the story.\n",
        "\n",
        "`title`: The title of the story.\n",
        "\n",
        "`url`: The URL that the story links to (if the story links to a URL)."
      ]
    },
    {
      "cell_type": "markdown",
      "id": "cf01e2fa",
      "metadata": {
        "id": "cf01e2fa"
      },
      "source": [
        "## Instructions\n",
        "\n",
        "1. Use the `open()` function to open the `hn_2014.json` file as a file object.\n",
        "\n",
        "1. Use the `json.load()` function to parse the file object and assign the result to hn."
      ]
    },
    {
      "cell_type": "code",
      "execution_count": 7,
      "id": "7896f623",
      "metadata": {
        "id": "7896f623"
      },
      "outputs": [],
      "source": [
        "#Open via google colab\n",
        "with open(\"/content/hn_2014.json\", \"r\") as file:\n",
        "    hn = json.load(file)"
      ]
    },
    {
      "cell_type": "markdown",
      "id": "b141571d",
      "metadata": {
        "id": "b141571d"
      },
      "source": [
        "# 3 Deleting Dictionary Keys\n",
        "\n",
        "Let's look at the first dictionary in full. To make it easier to understand, we're going to create a function which will print a JSON object with formatting to make it easier to read.\n",
        "\n",
        "The function will use the `json.dumps()` function (\"**dump string**\") which does the opposite of the ``json.loads()`` function — it takes a **JSON object and returns a string version** of it.\n",
        "\n",
        "The `json.dumps()` function accepts arguments that can specify formatting for the string, which we'll use to make things easier to read:"
      ]
    },
    {
      "cell_type": "code",
      "source": [
        "def jprint(obj):\n",
        "    # create a formatted string of the Python JSON object\n",
        "    text = json.dumps(obj, sort_keys=True, indent=4)\n",
        "    print(text)\n",
        "\n",
        "first_story = hn[0]\n",
        "jprint(first_story)"
      ],
      "metadata": {
        "id": "6mfXg_wIjAS_",
        "outputId": "b51ae8db-7f5f-4ec7-dc73-b61e5ce04532",
        "colab": {
          "base_uri": "https://localhost:8080/"
        }
      },
      "id": "6mfXg_wIjAS_",
      "execution_count": 8,
      "outputs": [
        {
          "output_type": "stream",
          "name": "stdout",
          "text": [
            "{\n",
            "    \"author\": \"dragongraphics\",\n",
            "    \"createdAt\": \"2014-05-29T08:07:50Z\",\n",
            "    \"createdAtI\": 1401350870,\n",
            "    \"numComments\": 0,\n",
            "    \"objectId\": \"7815238\",\n",
            "    \"points\": 2,\n",
            "    \"storyText\": \"\",\n",
            "    \"tags\": [\n",
            "        \"story\",\n",
            "        \"author_dragongraphics\",\n",
            "        \"story_7815238\"\n",
            "    ],\n",
            "    \"title\": \"Are we getting too Sassy? Weighing up micro-optimisation vs. maintainability\",\n",
            "    \"url\": \"http://ashleynolan.co.uk/blog/are-we-getting-too-sassy\"\n",
            "}\n"
          ]
        }
      ]
    },
    {
      "cell_type": "markdown",
      "source": [
        "You may notice that the `createdAt` and `createdAtI` keys both have the date and time data in two different formats. Because the format of `createdAt` is much easier to understand, let's do some data cleaning by deleting the `createdAtI` key from every dictionary.\n",
        "\n",
        "To **delete** a key from a dictionary, we can use the `del` statement. Let's learn the syntax by looking at a simple example:"
      ],
      "metadata": {
        "id": "FPItnZawjR_6"
      },
      "id": "FPItnZawjR_6"
    },
    {
      "cell_type": "code",
      "source": [
        "d = {'a': 1, 'b': 2, 'c': 3}\n",
        "del d['a']\n",
        "print(d)"
      ],
      "metadata": {
        "id": "HiTEI-ePjwGK",
        "outputId": "0850fdcd-592c-43e5-f4fa-7ee1b5b309fb",
        "colab": {
          "base_uri": "https://localhost:8080/"
        }
      },
      "id": "HiTEI-ePjwGK",
      "execution_count": 9,
      "outputs": [
        {
          "output_type": "stream",
          "name": "stdout",
          "text": [
            "{'b': 2, 'c': 3}\n"
          ]
        }
      ]
    },
    {
      "cell_type": "markdown",
      "source": [
        "We can create a function using `del` that will return a copy of our dictionary with the key removed.\n",
        "\n",
        "The dictionary returned by the function no longer includes the `createdAtI` key."
      ],
      "metadata": {
        "id": "kMTwVEW2kDvy"
      },
      "id": "kMTwVEW2kDvy"
    },
    {
      "cell_type": "code",
      "source": [
        "def del_key(dict_, key):\n",
        "    # create a copy so we don't\n",
        "    # modify the original dict\n",
        "    modified_dict = dict_.copy()\n",
        "    del modified_dict[key]\n",
        "    return modified_dict\n",
        "\n",
        "#Let's use this function to delete the createdAtI key from first_story:\n",
        "\n",
        "first_story = del_key(first_story, 'createdAtI')\n",
        "jprint(first_story)"
      ],
      "metadata": {
        "id": "hck5fZ7XkQK6",
        "outputId": "9a64eeaf-f681-4356-c5f8-b4ff1ccbe46a",
        "colab": {
          "base_uri": "https://localhost:8080/"
        }
      },
      "id": "hck5fZ7XkQK6",
      "execution_count": 11,
      "outputs": [
        {
          "output_type": "stream",
          "name": "stdout",
          "text": [
            "{\n",
            "    \"author\": \"dragongraphics\",\n",
            "    \"createdAt\": \"2014-05-29T08:07:50Z\",\n",
            "    \"numComments\": 0,\n",
            "    \"objectId\": \"7815238\",\n",
            "    \"points\": 2,\n",
            "    \"storyText\": \"\",\n",
            "    \"tags\": [\n",
            "        \"story\",\n",
            "        \"author_dragongraphics\",\n",
            "        \"story_7815238\"\n",
            "    ],\n",
            "    \"title\": \"Are we getting too Sassy? Weighing up micro-optimisation vs. maintainability\",\n",
            "    \"url\": \"http://ashleynolan.co.uk/blog/are-we-getting-too-sassy\"\n",
            "}\n"
          ]
        }
      ]
    },
    {
      "cell_type": "markdown",
      "source": [
        "## Instructions\n",
        "\n",
        "Let's use a loop and the `del_key()` function to remove the createdAtI key from every story in our Hacker News data set:\n",
        "\n",
        "1. Create an empty list, `hn_clean` to store the cleaned data set.\n",
        "\n",
        "1. Loop over the dictionaries in the hn list. In each iteration:\n",
        "\n",
        "  * Use the `del_key()` function to delete the createdAtI key from the dictionary.\n",
        "\n",
        "  * Append the cleaned dictionary to `hn_clean`."
      ],
      "metadata": {
        "id": "zNYU_OVbkerV"
      },
      "id": "zNYU_OVbkerV"
    }
  ],
  "metadata": {
    "kernelspec": {
      "display_name": "Python 3 (ipykernel)",
      "language": "python",
      "name": "python3"
    },
    "language_info": {
      "codemirror_mode": {
        "name": "ipython",
        "version": 3
      },
      "file_extension": ".py",
      "mimetype": "text/x-python",
      "name": "python",
      "nbconvert_exporter": "python",
      "pygments_lexer": "ipython3",
      "version": "3.12.1"
    },
    "colab": {
      "provenance": [],
      "include_colab_link": true
    }
  },
  "nbformat": 4,
  "nbformat_minor": 5
}