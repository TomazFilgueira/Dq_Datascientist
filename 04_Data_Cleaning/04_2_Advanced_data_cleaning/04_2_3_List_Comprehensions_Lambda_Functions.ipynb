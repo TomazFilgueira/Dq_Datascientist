{
  "cells": [
    {
      "cell_type": "markdown",
      "metadata": {
        "id": "view-in-github",
        "colab_type": "text"
      },
      "source": [
        "<a href=\"https://colab.research.google.com/github/TomazFilgueira/Dq_Datascientist/blob/main/04_Data_Cleaning/04_2_Advanced_data_cleaning/04_2_3_List_Comprehensions_Lambda_Functions.ipynb\" target=\"_parent\"><img src=\"https://colab.research.google.com/assets/colab-badge.svg\" alt=\"Open In Colab\"/></a>"
      ]
    },
    {
      "cell_type": "markdown",
      "id": "e42cf384",
      "metadata": {
        "id": "e42cf384"
      },
      "source": [
        "# 1) JSON Format\n",
        "\n",
        "The data set we'll use in this lesson is in a format called JavaScript Object Notation (**JSON**). As the name indicates, JSON originated from the JavaScript language, but has now become a language-independent format.\n",
        "\n",
        "From a Python perspective, JSON can be thought of as a collection of Python objects nested inside each other.\n",
        "\n",
        "![image.png](attachment:image.png)\n",
        "\n",
        "The JSON above is a list, where each element in the list is a dictionary. Each of the dictionaries have the same keys, and one of the values of each dictionary is itself a list.\n",
        "\n",
        "The Python json module contains a number of functions to make working with JSON objects easier. We can use the `json.loads()` method to convert JSON data contained in a string to the equivalent set of Python objects:"
      ]
    },
    {
      "cell_type": "code",
      "execution_count": 4,
      "id": "f03900b3",
      "metadata": {
        "colab": {
          "base_uri": "https://localhost:8080/"
        },
        "id": "f03900b3",
        "outputId": "545acb29-571e-473d-9fe5-bc369c3776b3"
      },
      "outputs": [
        {
          "output_type": "stream",
          "name": "stdout",
          "text": [
            "<class 'list'>\n",
            "[{'name': 'Sabine', 'age': 36, 'favorite_foods': ['Pumpkin', 'Oatmeal']}, {'name': 'Zoe', 'age': 40, 'favorite_foods': ['Chicken', 'Pizza', 'Chocolate']}, {'name': 'Heidi', 'age': 40, 'favorite_foods': ['Caesar Salad']}]\n"
          ]
        }
      ],
      "source": [
        "json_string = \"\"\"\n",
        "[\n",
        "  {\n",
        "    \"name\": \"Sabine\",\n",
        "    \"age\": 36,\n",
        "    \"favorite_foods\": [\"Pumpkin\", \"Oatmeal\"]\n",
        "  },\n",
        "  {\n",
        "    \"name\": \"Zoe\",\n",
        "    \"age\": 40,\n",
        "    \"favorite_foods\": [\"Chicken\", \"Pizza\", \"Chocolate\"]\n",
        "  },\n",
        "  {\n",
        "    \"name\": \"Heidi\",\n",
        "    \"age\": 40,\n",
        "    \"favorite_foods\": [\"Caesar Salad\"]\n",
        "  }\n",
        "]\n",
        "\"\"\"\n",
        "\n",
        "import json\n",
        "json_obj = json.loads(json_string)\n",
        "print(type(json_obj))\n",
        "\n",
        "print(json_obj)"
      ]
    },
    {
      "cell_type": "markdown",
      "id": "6c4d840b",
      "metadata": {
        "id": "6c4d840b"
      },
      "source": [
        "We can observe a few things:\n",
        "\n",
        "The formatting from our original string is gone. This is because printing Python lists and dictionaries has a simple formatting structure.\n",
        "\n",
        "The order of the keys in the dictionary may appear different. While Python dictionaries maintain insertion order in modern versions, the JSON specification does not guarantee key order preservation. This means that when working with JSON data, the order of keys might not always be consistent."
      ]
    },
    {
      "cell_type": "markdown",
      "id": "9c4a9e3a",
      "metadata": {
        "id": "9c4a9e3a"
      },
      "source": [
        "# Instructions\n",
        "\n",
        "Let's practice using `json.loads()` to convert JSON data from a string to Python objects!\n",
        "\n",
        "We have created a JSON string, world_cup_str, which contains data about games from the 2018 Football World Cup.\n",
        "\n",
        "1. Import the json module.\n",
        "\n",
        "1. Use `json.loads()` to convert `world_cup_str` to a Python object. Assign the result to `world_cup_obj`."
      ]
    },
    {
      "cell_type": "code",
      "execution_count": null,
      "id": "7d2711d0",
      "metadata": {
        "id": "7d2711d0"
      },
      "outputs": [],
      "source": [
        "world_cup_str = \"\"\"\n",
        "[\n",
        "    {\n",
        "        \"team_1\": \"France\",\n",
        "        \"team_2\": \"Croatia\",\n",
        "        \"game_type\": \"Final\",\n",
        "        \"score\" : [4, 2]\n",
        "    },\n",
        "    {\n",
        "        \"team_1\": \"Belgium\",\n",
        "        \"team_2\": \"England\",\n",
        "        \"game_type\": \"3rd/4th Playoff\",\n",
        "        \"score\" : [2, 0]\n",
        "    }\n",
        "]\n",
        "\"\"\"\n",
        "\n",
        "import json\n",
        "\n",
        "world_cup_obj = json.loads(world_cup_str)"
      ]
    },
    {
      "cell_type": "markdown",
      "id": "36becbb3",
      "metadata": {
        "id": "36becbb3"
      },
      "source": [
        "# 2) Reading a JSON file\n",
        "\n",
        "One of the places where the JSON format is commonly used is in the results returned by an Application programming interface (**API**). APIs are interfaces that can be used to send and transmit data between different computer systems\n",
        "\n",
        "The data set from this lesson — `hn_2014.json` — was downloaded from the Hacker News API. It's a different set of data from the CSV we've been using in the previous two lessons, and it contains data about stories from Hacker News in 2014.\n",
        "\n",
        "To read a file from JSON format, we use the `json.load()` function. Note that the function is `json.load()` without an \"s\" at the end. The `json.loads()` function is used for **loading JSON data from a string** (\"loads\" is short for \"load string\"), whereas the `json.load()` function is used to **load from a file object**. Let's look at how we would read that in our data:\n",
        "\n",
        "*Note that we're using with to open the file, which is a better practice than just using `open()`*\n",
        "\n",
        "```\n",
        "import json\n",
        "with open(\"hn_2014.json\", \"r\") as file:\n",
        "    hn = json.load(file)\n",
        "\n",
        "print(type(hn))\n",
        "```\n",
        "\n",
        "Our hn variable is a **list**. Let's find out **how many objects** are in the list, and the type of the first object (which will almost always be the type of every object in the list in **JSON data**):\n",
        "\n",
        "```\n",
        "print(len(hn))\n",
        "print(type(hn[0]))\n",
        "```\n",
        "\n",
        "Our data set contains **35,806 dictionary objects**, each representing a Hacker News story. In order to understand the format of our data set, we'll print the keys of the first dictionary:\n",
        "\n",
        "```\n",
        "print(hn[0].keys())\n",
        "\n",
        "dict_keys(['author', 'numComments', 'points', 'url', 'storyText', 'createdAt', 'tags', 'createdAtI', 'title', 'objectId'])\n",
        "```\n",
        "\n",
        "If we recall the data set we used in the previous two lessons, we can see some similarities. There are keys representing the title, **URL**, **points**, **number of comments**, and **date**, as well as some **others** that are less familiar to us. Here is a summary of the keys and the data that they contain:\n",
        "\n",
        "`author`: The username of the person who submitted the story.\n",
        "\n",
        "`createdAt`: The date and time at which the story was created.\n",
        "\n",
        "`createdAtI`: An integer value representing the date and time at which the story was created.\n",
        "\n",
        "`numComments`: The number of comments that were made on the story.\n",
        "\n",
        "`objectId`: The unique identifier from Hacker News for the story.\n",
        "\n",
        "`points`: The number of points the story acquired, calculated as the total number of upvotes minus the total number of downvotes.\n",
        "\n",
        "`storyText`: The text of the story (if the story contains text).\n",
        "\n",
        "`tags`: A list of tags associated with the story.\n",
        "\n",
        "`title`: The title of the story.\n",
        "\n",
        "`url`: The URL that the story links to (if the story links to a URL)."
      ]
    },
    {
      "cell_type": "markdown",
      "id": "cf01e2fa",
      "metadata": {
        "id": "cf01e2fa"
      },
      "source": [
        "## Instructions\n",
        "\n",
        "1. Use the `open()` function to open the `hn_2014.json` file as a file object.\n",
        "\n",
        "1. Use the `json.load()` function to parse the file object and assign the result to hn."
      ]
    },
    {
      "cell_type": "code",
      "execution_count": 5,
      "id": "7896f623",
      "metadata": {
        "id": "7896f623"
      },
      "outputs": [],
      "source": [
        "import json\n",
        "#Open via google colab\n",
        "with open(\"/content/hn_2014.json\", \"r\") as file:\n",
        "    hn = json.load(file)"
      ]
    },
    {
      "cell_type": "markdown",
      "id": "b141571d",
      "metadata": {
        "id": "b141571d"
      },
      "source": [
        "# 3 Deleting Dictionary Keys\n",
        "\n",
        "Let's look at the first dictionary in full. To make it easier to understand, we're going to create a function which will print a JSON object with formatting to make it easier to read.\n",
        "\n",
        "The function will use the `json.dumps()` function (\"**dump string**\") which does the opposite of the ``json.loads()`` function — it takes a **JSON object and returns a string version** of it.\n",
        "\n",
        "The `json.dumps()` function accepts arguments that can specify formatting for the string, which we'll use to make things easier to read:"
      ]
    },
    {
      "cell_type": "code",
      "source": [
        "def jprint(obj):\n",
        "    # create a formatted string of the Python JSON object\n",
        "    text = json.dumps(obj, sort_keys=True, indent=4)\n",
        "    print(text)\n",
        "\n",
        "first_story = hn[0]\n",
        "jprint(first_story)"
      ],
      "metadata": {
        "colab": {
          "base_uri": "https://localhost:8080/"
        },
        "id": "6mfXg_wIjAS_",
        "outputId": "29b09521-7c6f-40d9-c3cf-17a62ac3d9b4"
      },
      "id": "6mfXg_wIjAS_",
      "execution_count": 22,
      "outputs": [
        {
          "output_type": "stream",
          "name": "stdout",
          "text": [
            "{\n",
            "    \"author\": \"dragongraphics\",\n",
            "    \"createdAt\": \"2014-05-29T08:07:50Z\",\n",
            "    \"createdAtI\": 1401350870,\n",
            "    \"numComments\": 0,\n",
            "    \"objectId\": \"7815238\",\n",
            "    \"points\": 2,\n",
            "    \"storyText\": \"\",\n",
            "    \"tags\": [\n",
            "        \"story\",\n",
            "        \"author_dragongraphics\",\n",
            "        \"story_7815238\"\n",
            "    ],\n",
            "    \"title\": \"Are we getting too Sassy? Weighing up micro-optimisation vs. maintainability\",\n",
            "    \"url\": \"http://ashleynolan.co.uk/blog/are-we-getting-too-sassy\"\n",
            "}\n"
          ]
        }
      ]
    },
    {
      "cell_type": "markdown",
      "source": [
        "You may notice that the `createdAt` and `createdAtI` keys both have the date and time data in two different formats. Because the format of `createdAt` is much easier to understand, let's do some data cleaning by deleting the `createdAtI` key from every dictionary.\n",
        "\n",
        "To **delete** a key from a dictionary, we can use the `del` statement. Let's learn the syntax by looking at a simple example:"
      ],
      "metadata": {
        "id": "FPItnZawjR_6"
      },
      "id": "FPItnZawjR_6"
    },
    {
      "cell_type": "code",
      "source": [
        "d = {'a': 1, 'b': 2, 'c': 3}\n",
        "del d['a']\n",
        "print(d)"
      ],
      "metadata": {
        "colab": {
          "base_uri": "https://localhost:8080/"
        },
        "id": "HiTEI-ePjwGK",
        "outputId": "0850fdcd-592c-43e5-f4fa-7ee1b5b309fb"
      },
      "id": "HiTEI-ePjwGK",
      "execution_count": 9,
      "outputs": [
        {
          "output_type": "stream",
          "name": "stdout",
          "text": [
            "{'b': 2, 'c': 3}\n"
          ]
        }
      ]
    },
    {
      "cell_type": "markdown",
      "source": [
        "We can create a function using `del` that will return a copy of our dictionary with the key removed.\n",
        "\n",
        "The dictionary returned by the function no longer includes the `createdAtI` key."
      ],
      "metadata": {
        "id": "kMTwVEW2kDvy"
      },
      "id": "kMTwVEW2kDvy"
    },
    {
      "cell_type": "code",
      "source": [
        "def del_key(dict_, key):\n",
        "    # create a copy so we don't\n",
        "    # modify the original dict\n",
        "    modified_dict = dict_.copy()\n",
        "    del modified_dict[key]\n",
        "    return modified_dict\n",
        "\n",
        "#Let's use this function to delete the createdAtI key from first_story:\n",
        "\n",
        "first_story = del_key(first_story, 'createdAtI')\n",
        "jprint(first_story)"
      ],
      "metadata": {
        "colab": {
          "base_uri": "https://localhost:8080/"
        },
        "id": "hck5fZ7XkQK6",
        "outputId": "9a64eeaf-f681-4356-c5f8-b4ff1ccbe46a"
      },
      "id": "hck5fZ7XkQK6",
      "execution_count": 11,
      "outputs": [
        {
          "output_type": "stream",
          "name": "stdout",
          "text": [
            "{\n",
            "    \"author\": \"dragongraphics\",\n",
            "    \"createdAt\": \"2014-05-29T08:07:50Z\",\n",
            "    \"numComments\": 0,\n",
            "    \"objectId\": \"7815238\",\n",
            "    \"points\": 2,\n",
            "    \"storyText\": \"\",\n",
            "    \"tags\": [\n",
            "        \"story\",\n",
            "        \"author_dragongraphics\",\n",
            "        \"story_7815238\"\n",
            "    ],\n",
            "    \"title\": \"Are we getting too Sassy? Weighing up micro-optimisation vs. maintainability\",\n",
            "    \"url\": \"http://ashleynolan.co.uk/blog/are-we-getting-too-sassy\"\n",
            "}\n"
          ]
        }
      ]
    },
    {
      "cell_type": "markdown",
      "source": [
        "## Instructions\n",
        "\n",
        "Let's use a loop and the `del_key()` function to remove the createdAtI key from every story in our Hacker News data set:\n",
        "\n",
        "1. Create an empty list, `hn_clean` to store the cleaned data set.\n",
        "\n",
        "1. Loop over the dictionaries in the hn list. In each iteration:\n",
        "\n",
        "  * Use the `del_key()` function to delete the createdAtI key from the dictionary.\n",
        "\n",
        "  * Append the cleaned dictionary to `hn_clean`."
      ],
      "metadata": {
        "id": "zNYU_OVbkerV"
      },
      "id": "zNYU_OVbkerV"
    },
    {
      "cell_type": "code",
      "source": [
        "def del_key(dict_, key):\n",
        "    # create a copy so we don't\n",
        "    # modify the original dict\n",
        "    modified_dict = dict_.copy()\n",
        "    del modified_dict[key]\n",
        "    return modified_dict\n",
        "\n",
        "hn_clean = []\n",
        "\n",
        "for l in hn:\n",
        "    #for each list in hn dict, call function\n",
        "    temp = del_key(l, 'createdAtI')\n",
        "\n",
        "    #append to hn clean\n",
        "    hn_clean.append(temp)"
      ],
      "metadata": {
        "id": "O05UA9d69jKo"
      },
      "id": "O05UA9d69jKo",
      "execution_count": 6,
      "outputs": []
    },
    {
      "cell_type": "markdown",
      "source": [
        "# 4) Writing List Comprehensions\n",
        "\n",
        "The task we performed previously is an extremely common one. Specifically, we:\n",
        "\n",
        "* Iterated over values in a list.\n",
        "* Performed a transformation on those values.\n",
        "* Assigned the result to a new list.\n",
        "\n",
        "Python includes a special syntax shortcut for tasks that meet these criteria: **List Comprehensions**. A list comprehension provides a concise way of creating lists in a single line of code.\n",
        "\n",
        "List comprehensions can look complex at first, but we are simply reordering the elements of our for loop code. To keep things simple, we'll start with a basic example, where we want to add 1 to each item in a list of integers.\n",
        "\n",
        "![Alt text](https://s3.amazonaws.com/dq-content/355/loop_components.svg)"
      ],
      "metadata": {
        "id": "y7xTsl6c98mt"
      },
      "id": "y7xTsl6c98mt"
    },
    {
      "cell_type": "code",
      "source": [
        "ints = [1, 2, 3, 4]\n",
        "\n",
        "plus_one = []\n",
        "for i in ints:\n",
        "    plus_one.append(i + 1)\n",
        "\n",
        "print(plus_one)"
      ],
      "metadata": {
        "colab": {
          "base_uri": "https://localhost:8080/"
        },
        "id": "5MLqNvku-er1",
        "outputId": "ab085efc-29fa-415b-b1ae-f6743c1f5046"
      },
      "id": "5MLqNvku-er1",
      "execution_count": 7,
      "outputs": [
        {
          "output_type": "stream",
          "name": "stdout",
          "text": [
            "[2, 3, 4, 5]\n"
          ]
        }
      ]
    },
    {
      "cell_type": "markdown",
      "source": [
        "To transform this structure into a list comprehension, we do the following within brackets:\n",
        "\n",
        "1. Start with the code that transforms each item.\n",
        "1. Continue with our for statement (without a colon).\n",
        "\n",
        "We can then assign the list comprehension to a variable name.\n",
        "\n",
        "Let's look at a example, where we want to multiply each item in the list by **10**:\n",
        "\n",
        "```python\n",
        "times_ten = []\n",
        "for i in ints:\n",
        "    times_ten.append(i * 10)\n",
        "\n",
        "print(times_ten)\n",
        "```\n",
        "\n",
        "To convert this to a list comprehension, we follow the same pattern:\n",
        "\n",
        "![Alt text](https://s3.amazonaws.com/dq-content/355/loop_vs_lc_2.svg)\n",
        "\n",
        "In the example below, we are applying a function to a list of floats to round them to integers:\n",
        "\n",
        "```python\n",
        "floats = [2.1, 8.7, 4.2, 8.9]\n",
        "\n",
        "rounded = []\n",
        "for f in floats:\n",
        "    rounded.append(round(f))\n",
        "\n",
        "print(rounded)\n",
        "```\n",
        "\n",
        "To convert to a list comprehension, we simply rearrange the components:\n",
        "\n",
        "![Alt text](https://s3.amazonaws.com/dq-content/355/loop_vs_lc_3.svg)\n",
        "\n"
      ],
      "metadata": {
        "id": "7s78e4wh_AUc"
      },
      "id": "7s78e4wh_AUc"
    },
    {
      "cell_type": "markdown",
      "source": [
        "## Instructions\n",
        "\n",
        "We are going to write a list comprehension version of the code from the previous screen.\n",
        "\n",
        "![Alt text](https://s3.amazonaws.com/dq-content/355/loop_components_hn.svg)\n",
        "\n",
        "1. Create a list comprehension representation of the loop from the previous screen:\n",
        "\n",
        "* Call the `del_key()` function to remove the `createdAtI` value from each dictionary in the hn list.\n",
        "* Assign the results to a new list, `hn_clean`."
      ],
      "metadata": {
        "id": "DOPCEznJAqrd"
      },
      "id": "DOPCEznJAqrd"
    },
    {
      "cell_type": "code",
      "source": [
        "hn_clean = [del_key(d, 'createdAtI') for d in hn]"
      ],
      "metadata": {
        "id": "-pjwITOdBMTY"
      },
      "id": "-pjwITOdBMTY",
      "execution_count": 13,
      "outputs": []
    },
    {
      "cell_type": "markdown",
      "source": [
        "# 5) Using List Comprehensions to Transform and Create Lists\n",
        "\n",
        "List comprehensions can be used for many different things. Three common applications are:\n",
        "\n",
        "1. Transforming a list\n",
        "1. Creating a new list\n",
        "1. Reducing a list\n",
        "\n",
        "The first application, **transforming a list**, is the category that all the examples you've seen so far fit under. You are taking an existing list, applying a transformation to every value, and assigning it to a variable.\n",
        "\n",
        "The second application, **creating a new list**, is useful for creating test data or data that is based on a set of numbers.\n",
        "\n",
        "As an example, let's create a list of generic columns names that we could use to create a dataframe using the `range()` function and `f-strings` to combine numbers and text:\n",
        "\n",
        "![Alt text](https://s3.amazonaws.com/dq-content/355/lc_application_2_2_v2.svg)\n",
        "\n",
        "We can then use this to create an empty dataframe with labels:"
      ],
      "metadata": {
        "id": "sLDfh1NkBPCZ"
      },
      "id": "sLDfh1NkBPCZ"
    },
    {
      "cell_type": "code",
      "source": [
        "import numpy as np\n",
        "import pandas as pd\n",
        "\n",
        "cols = [f\"col_{i}\" for i in range(1,5)]\n",
        "data = np.zeros((4,4))\n",
        "\n",
        "df = pd.DataFrame(data, columns=cols)\n",
        "print(df)"
      ],
      "metadata": {
        "colab": {
          "base_uri": "https://localhost:8080/"
        },
        "id": "JP5iT-TCCX7c",
        "outputId": "7f72798e-4329-4535-cc45-0c517e7fa3c5"
      },
      "id": "JP5iT-TCCX7c",
      "execution_count": 11,
      "outputs": [
        {
          "output_type": "stream",
          "name": "stdout",
          "text": [
            "   col_1  col_2  col_3  col_4\n",
            "0    0.0    0.0    0.0    0.0\n",
            "1    0.0    0.0    0.0    0.0\n",
            "2    0.0    0.0    0.0    0.0\n",
            "3    0.0    0.0    0.0    0.0\n"
          ]
        }
      ]
    },
    {
      "cell_type": "markdown",
      "source": [
        "## Instructions\n",
        "\n",
        "Let's use list comprehension to create a new list containing just the URLs from each story.\n",
        "\n",
        "Use a list comprehension to extract the **url** value from each dictionary in `hn_clean`. Assign the result to `urls`"
      ],
      "metadata": {
        "id": "DGigt-AmChlo"
      },
      "id": "DGigt-AmChlo"
    },
    {
      "cell_type": "code",
      "source": [
        "\n",
        "#1) extract url from dict key ['url']\n",
        "#2) loop over hn_clean\n",
        "urls = [new_url['url'] for new_url in hn_clean]\n",
        "print(urls[:5])"
      ],
      "metadata": {
        "colab": {
          "base_uri": "https://localhost:8080/"
        },
        "id": "2hrKE2LKGyI_",
        "outputId": "e0457968-3fdc-44b5-919f-f03c90916289"
      },
      "id": "2hrKE2LKGyI_",
      "execution_count": 17,
      "outputs": [
        {
          "output_type": "stream",
          "name": "stdout",
          "text": [
            "['http://ashleynolan.co.uk/blog/are-we-getting-too-sassy', 'http://spectrum.ieee.org/automaton/robotics/home-robots/telemba-telepresence-robot', 'http://online.wsj.com/articles/apple-to-buy-beats-1401308971', 'http://alexsblog.org/2014/05/29/dont-wait-for-inspiration/', 'http://techcrunch.com/2014/05/28/hackerone-get-9m-in-series-a-funding-to-build-bug-tracking-bounty-programs/'] \n",
            "\n"
          ]
        }
      ]
    },
    {
      "cell_type": "markdown",
      "source": [
        "# 6)  Using List Comprehensions to Reduce a List\n",
        "\n",
        "The last common application of list comprehensions is **reducing a list**. Let's say we had a list of integers and we wanted to remove any integers that were smaller than 50. We could do this by adding an if statement to our loop:\n",
        "\n",
        "![Alt text](https://s3.amazonaws.com/dq-content/355/lc_application_3_1.svg)\n",
        "\n",
        "Our loop has one new component — the if statement, which we've colored yellow. Notice that instead of a transformation, we have just the list item itself `(i)` in red. Both if statements and transformations are **optional** in list comprehensions, but we must include some value to populate the elements in the new list.\n",
        "\n",
        "To include an if statement in a list comprehension, we include it at the very end, before the closing bracket:\n",
        "\n",
        "![Alt text](https://s3.amazonaws.com/dq-content/355/lc_application_3_2.svg)\n",
        "\n",
        "Let's look at how we could use this to quickly **count the number of stories that have comments**. We'll start with a version using a loop:"
      ],
      "metadata": {
        "id": "GwmUAR-CHY7d"
      },
      "id": "GwmUAR-CHY7d"
    },
    {
      "cell_type": "code",
      "source": [
        "has_comments = []\n",
        "\n",
        "for d in hn_clean:\n",
        "    if d['numComments'] > 0:\n",
        "        has_comments.append(d)\n",
        "\n",
        "num_comments = len(has_comments)\n",
        "print(num_comments)"
      ],
      "metadata": {
        "colab": {
          "base_uri": "https://localhost:8080/"
        },
        "id": "jQP4oetWIFTV",
        "outputId": "fe7eb4e6-2f6b-465c-c5a4-e10ec72ad486"
      },
      "id": "jQP4oetWIFTV",
      "execution_count": 18,
      "outputs": [
        {
          "output_type": "stream",
          "name": "stdout",
          "text": [
            "9279\n"
          ]
        }
      ]
    },
    {
      "cell_type": "code",
      "source": [
        "#Now, let's use a list comprehension to perform the same calculation:\n",
        "\n",
        "has_comments = [d for d in hn_clean if d['numComments'] > 0]\n",
        "\n",
        "num_comments = len(has_comments)\n",
        "print(num_comments)"
      ],
      "metadata": {
        "colab": {
          "base_uri": "https://localhost:8080/"
        },
        "id": "yh2RZ8bkII2s",
        "outputId": "c1d8a236-fe49-4b6e-a07f-d44057902d74"
      },
      "id": "yh2RZ8bkII2s",
      "execution_count": 19,
      "outputs": [
        {
          "output_type": "stream",
          "name": "stdout",
          "text": [
            "9279\n"
          ]
        }
      ]
    },
    {
      "cell_type": "markdown",
      "source": [
        "## Instructions\n",
        "\n",
        "Let's use list comprehension to count how many stories have **more than 1,000 points.**\n",
        "\n",
        "1. Use list comprehension to create a new list, `thousand_points`:\n",
        "  \n",
        "  * The list should contain values from `hn_clean` where the points key has a value greater than `1000`.\n",
        "\n",
        "1. Count the number of values in `thousand_points` and assign the result to `num_thousand_points`."
      ],
      "metadata": {
        "id": "tWvyBJAIIT0B"
      },
      "id": "tWvyBJAIIT0B"
    },
    {
      "cell_type": "code",
      "source": [
        "thousand_points = [d for d in hn_clean if d['points'] > 1000]\n",
        "\n",
        "num_thousand_points = len(thousand_points)\n",
        "print(num_thousand_points)"
      ],
      "metadata": {
        "colab": {
          "base_uri": "https://localhost:8080/"
        },
        "id": "YY-lEW8qI9nk",
        "outputId": "e8f4589d-2a56-4e50-ec6f-703c3f551305"
      },
      "id": "YY-lEW8qI9nk",
      "execution_count": 20,
      "outputs": [
        {
          "output_type": "stream",
          "name": "stdout",
          "text": [
            "8\n"
          ]
        }
      ]
    },
    {
      "cell_type": "markdown",
      "source": [
        "# 7) Passing Functions as Arguments\n",
        "\n",
        "What if we wanted to use built-in functions to work with data in JSON form?\n",
        "\n",
        "Let's use our demo JSON object to try and see what happens. First, we'll quickly remind ourselves of the data:"
      ],
      "metadata": {
        "id": "9IiL3kLmJA4s"
      },
      "id": "9IiL3kLmJA4s"
    },
    {
      "cell_type": "code",
      "source": [
        "jprint(json_obj)"
      ],
      "metadata": {
        "colab": {
          "base_uri": "https://localhost:8080/"
        },
        "id": "ET3uQMqvJXk2",
        "outputId": "71f795d2-c191-4fe3-cf07-7f41a93d004e"
      },
      "id": "ET3uQMqvJXk2",
      "execution_count": 23,
      "outputs": [
        {
          "output_type": "stream",
          "name": "stdout",
          "text": [
            "[\n",
            "    {\n",
            "        \"age\": 36,\n",
            "        \"favorite_foods\": [\n",
            "            \"Pumpkin\",\n",
            "            \"Oatmeal\"\n",
            "        ],\n",
            "        \"name\": \"Sabine\"\n",
            "    },\n",
            "    {\n",
            "        \"age\": 40,\n",
            "        \"favorite_foods\": [\n",
            "            \"Chicken\",\n",
            "            \"Pizza\",\n",
            "            \"Chocolate\"\n",
            "        ],\n",
            "        \"name\": \"Zoe\"\n",
            "    },\n",
            "    {\n",
            "        \"age\": 40,\n",
            "        \"favorite_foods\": [\n",
            "            \"Caesar Salad\"\n",
            "        ],\n",
            "        \"name\": \"Heidi\"\n",
            "    }\n",
            "]\n"
          ]
        }
      ]
    },
    {
      "cell_type": "code",
      "source": [
        "# Let's try and use Python to return the dictionary of the person with the lowest age:\n",
        "min(json_obj)"
      ],
      "metadata": {
        "colab": {
          "base_uri": "https://localhost:8080/",
          "height": 159
        },
        "id": "cqrUkKJ_JkiT",
        "outputId": "027492ce-5ca6-429c-8d09-8227c9ae0aab"
      },
      "id": "cqrUkKJ_JkiT",
      "execution_count": 24,
      "outputs": [
        {
          "output_type": "error",
          "ename": "TypeError",
          "evalue": "'<' not supported between instances of 'dict' and 'dict'",
          "traceback": [
            "\u001b[0;31m---------------------------------------------------------------------------\u001b[0m",
            "\u001b[0;31mTypeError\u001b[0m                                 Traceback (most recent call last)",
            "\u001b[0;32m<ipython-input-24-def2eabc55db>\u001b[0m in \u001b[0;36m<cell line: 0>\u001b[0;34m()\u001b[0m\n\u001b[1;32m      1\u001b[0m \u001b[0;31m# Let's try and use Python to return the dictionary of the person with the lowest age:\u001b[0m\u001b[0;34m\u001b[0m\u001b[0;34m\u001b[0m\u001b[0m\n\u001b[0;32m----> 2\u001b[0;31m \u001b[0mmin\u001b[0m\u001b[0;34m(\u001b[0m\u001b[0mjson_obj\u001b[0m\u001b[0;34m)\u001b[0m\u001b[0;34m\u001b[0m\u001b[0;34m\u001b[0m\u001b[0m\n\u001b[0m",
            "\u001b[0;31mTypeError\u001b[0m: '<' not supported between instances of 'dict' and 'dict'"
          ]
        }
      ]
    },
    {
      "cell_type": "markdown",
      "source": [
        "We get an error because Python doesn't have any way to tell whether one dictionary object is \"greater\" than another.\n",
        "\n",
        "There is a way we can actually tell functions like `min()`, `max()`, and `sorted()` how to sort complex objects like dictionaries and lists of lists. We do this by using the optional `key argument`. The official Python documentation contains the following excerpt that describes how the argument works:\n",
        "\n",
        "  *`key` specifies a function of one argument that is used to extract a **comparison** key from each list element. The key corresponding to each item in the list is calculated once and then used for the entire sorting process*\n",
        "\n",
        "  This excerpt tells us we need to specify a `function` as an argument to control the comparison between values"
      ],
      "metadata": {
        "id": "7PjwFpnLKIu6"
      },
      "id": "7PjwFpnLKIu6"
    },
    {
      "cell_type": "markdown",
      "source": [
        "## Example\n",
        "\n"
      ],
      "metadata": {
        "id": "-YE2hVH4LGq7"
      },
      "id": "-YE2hVH4LGq7"
    },
    {
      "cell_type": "code",
      "source": [
        "def greet():\n",
        "    return \"hello\"\n",
        "\n",
        "greet()"
      ],
      "metadata": {
        "colab": {
          "base_uri": "https://localhost:8080/",
          "height": 35
        },
        "id": "m81Ht4D4LJpD",
        "outputId": "634b815c-4af8-4888-b2a0-fe3d4e77db36"
      },
      "id": "m81Ht4D4LJpD",
      "execution_count": 25,
      "outputs": [
        {
          "output_type": "execute_result",
          "data": {
            "text/plain": [
              "'hello'"
            ],
            "application/vnd.google.colaboratory.intrinsic+json": {
              "type": "string"
            }
          },
          "metadata": {},
          "execution_count": 25
        }
      ]
    },
    {
      "cell_type": "markdown",
      "source": [
        "If we try to examine the type of our function, we are unsuccessful:"
      ],
      "metadata": {
        "id": "0rg72bhALNc8"
      },
      "id": "0rg72bhALNc8"
    },
    {
      "cell_type": "code",
      "source": [
        "t = type(greet())\n",
        "print(t)"
      ],
      "metadata": {
        "colab": {
          "base_uri": "https://localhost:8080/"
        },
        "id": "GY1OuIVjLMhZ",
        "outputId": "e74dcdd5-13f4-4b19-a5dd-f5ae4f4f95f8"
      },
      "id": "GY1OuIVjLMhZ",
      "execution_count": 26,
      "outputs": [
        {
          "output_type": "stream",
          "name": "stdout",
          "text": [
            "<class 'str'>\n"
          ]
        }
      ]
    },
    {
      "cell_type": "markdown",
      "source": [
        "What happens is that `greet()` is executed first; it returns the string \"hello\", and then the `type()` function tells us the type of that string:\n",
        "\n",
        "![Alt text](https://s3.amazonaws.com/dq-content/355/type_of_func_1.svg)\n",
        "\n",
        "The parentheses are what tells Python to execute the function, so if we **omit** the parentheses we can treat a function like a **variable**, rather than working with the output of the function:"
      ],
      "metadata": {
        "id": "a2IyGj2WLSNT"
      },
      "id": "a2IyGj2WLSNT"
    },
    {
      "cell_type": "code",
      "source": [
        "t = type(greet)\n",
        "print(t)"
      ],
      "metadata": {
        "colab": {
          "base_uri": "https://localhost:8080/"
        },
        "id": "eDL_QvJYLh_Q",
        "outputId": "5adcfc95-0bbf-46eb-d54e-79d8d06c44ff"
      },
      "id": "eDL_QvJYLh_Q",
      "execution_count": 27,
      "outputs": [
        {
          "output_type": "stream",
          "name": "stdout",
          "text": [
            "<class 'function'>\n"
          ]
        }
      ]
    },
    {
      "cell_type": "markdown",
      "source": [
        "There are other variable-like behaviors we can also use when we omit the parentheses from a function. For instance, we can assign a function to a new variable name:"
      ],
      "metadata": {
        "id": "UWXddctsMhKd"
      },
      "id": "UWXddctsMhKd"
    },
    {
      "cell_type": "code",
      "source": [
        "greet_2 = greet\n",
        "\n",
        "greet_2()"
      ],
      "metadata": {
        "colab": {
          "base_uri": "https://localhost:8080/",
          "height": 35
        },
        "id": "vWsSlHicMjes",
        "outputId": "1593dd95-9a09-4f97-e5fe-62bdad01fb6a"
      },
      "id": "vWsSlHicMjes",
      "execution_count": 28,
      "outputs": [
        {
          "output_type": "execute_result",
          "data": {
            "text/plain": [
              "'hello'"
            ],
            "application/vnd.google.colaboratory.intrinsic+json": {
              "type": "string"
            }
          },
          "metadata": {},
          "execution_count": 28
        }
      ]
    },
    {
      "cell_type": "markdown",
      "source": [
        "Now that we understand how to treat a function as variable, let's look at how we can run a `function` inside `another function` by passing it as an argument:\n",
        "\n",
        "![Alt text](https://s3.amazonaws.com/dq-content/355/func_as_arg.svg)\n",
        "\n",
        "Now that we have some intuition on how to pass functions as arguments, let's see how we use a function to control the behavior of the `sorted()` function:\n",
        "\n",
        "![Alt text](https://s3.amazonaws.com/dq-content/355/sorted_key.svg)\n",
        "\n",
        "Let's look at the same thing in code form:"
      ],
      "metadata": {
        "id": "SOI8QCibMxlZ"
      },
      "id": "SOI8QCibMxlZ"
    },
    {
      "cell_type": "code",
      "source": [
        "def get_age(json_dict):\n",
        "    return json_dict['age']\n",
        "\n",
        "youngest = min(json_obj, key=get_age)\n",
        "jprint(youngest)"
      ],
      "metadata": {
        "colab": {
          "base_uri": "https://localhost:8080/"
        },
        "id": "vppmrn0KQ6ii",
        "outputId": "12513cad-3ceb-4a43-c34e-9816af892d22"
      },
      "id": "vppmrn0KQ6ii",
      "execution_count": 29,
      "outputs": [
        {
          "output_type": "stream",
          "name": "stdout",
          "text": [
            "{\n",
            "    \"age\": 36,\n",
            "    \"favorite_foods\": [\n",
            "        \"Pumpkin\",\n",
            "        \"Oatmeal\"\n",
            "    ],\n",
            "    \"name\": \"Sabine\"\n",
            "}\n"
          ]
        }
      ]
    },
    {
      "cell_type": "markdown",
      "source": [
        "## Instructions\n",
        "\n",
        "Let's use this technique to find the story that has the **greatest** number of comments.\n",
        "\n",
        "1. Create a \"key function\" that accepts a single dictionary and returns the value from the numComments key.\n",
        "1. Use the max() function with the \"key function\" you just created to find the value from the hn_clean list with the most comments:\n",
        "\n",
        "  * Assign the result to the variable most_comments."
      ],
      "metadata": {
        "id": "bf7kayFpRjOd"
      },
      "id": "bf7kayFpRjOd"
    },
    {
      "cell_type": "code",
      "source": [
        "def key_function(json_dict):\n",
        "    return json_dict['numComments']\n",
        "\n",
        "most_comments = max(hn_clean, key=key_function)\n",
        "print(most_comments)"
      ],
      "metadata": {
        "id": "-YPaFVgjTicK",
        "outputId": "f7b26a29-ddd9-4912-8e2f-e8940e42da65",
        "colab": {
          "base_uri": "https://localhost:8080/"
        }
      },
      "id": "-YPaFVgjTicK",
      "execution_count": 30,
      "outputs": [
        {
          "output_type": "stream",
          "name": "stdout",
          "text": [
            "{'author': 'platz', 'numComments': 1208, 'points': 889, 'url': 'https://blog.mozilla.org/blog/2014/04/03/brendan-eich-steps-down-as-mozilla-ceo/', 'storyText': None, 'createdAt': '2014-04-03T19:02:53Z', 'tags': ['story', 'author_platz', 'story_7525198'], 'title': 'Brendan Eich Steps Down as Mozilla CEO', 'objectId': '7525198'}\n"
          ]
        }
      ]
    }
  ],
  "metadata": {
    "kernelspec": {
      "display_name": "Python 3 (ipykernel)",
      "language": "python",
      "name": "python3"
    },
    "language_info": {
      "codemirror_mode": {
        "name": "ipython",
        "version": 3
      },
      "file_extension": ".py",
      "mimetype": "text/x-python",
      "name": "python",
      "nbconvert_exporter": "python",
      "pygments_lexer": "ipython3",
      "version": "3.12.1"
    },
    "colab": {
      "provenance": [],
      "include_colab_link": true
    }
  },
  "nbformat": 4,
  "nbformat_minor": 5
}