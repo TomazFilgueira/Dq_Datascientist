{
 "cells": [
  {
   "cell_type": "markdown",
   "id": "e42cf384",
   "metadata": {},
   "source": [
    "# 1) JSON Format"
   ]
  }
 ],
 "metadata": {
  "language_info": {
   "name": "python"
  }
 },
 "nbformat": 4,
 "nbformat_minor": 5
}
