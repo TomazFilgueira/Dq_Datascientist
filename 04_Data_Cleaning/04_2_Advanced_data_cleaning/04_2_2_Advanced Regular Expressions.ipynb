{
 "cells": [
  {
   "cell_type": "markdown",
   "id": "2c5e6a22",
   "metadata": {},
   "source": [
    "# Import Dataset"
   ]
  },
  {
   "cell_type": "code",
   "execution_count": null,
   "id": "97c9fb90",
   "metadata": {},
   "outputs": [
    {
     "ename": "",
     "evalue": "",
     "output_type": "error",
     "traceback": [
      "\u001b[1;31mFailed to connect to remote Jupyter Server.\n",
      "\u001b[1;31mCheck that the Jupyter Server URL can be reached from a browser.\n",
      "\u001b[1;31mhttps://scaling-pancake-jj7gpq746j67c5xvp-8888.app.github.dev/. Click <a href='https://aka.ms/vscjremoteweb'>here</a> for more information."
     ]
    }
   ],
   "source": [
    "import pandas as pd\n",
    "import re\n",
    "\n",
    "hn = pd.read_csv(\"04_Data_Cleaning/04_2_Advanced_data_cleaning/hacker_news.csv\")\n",
    "\n",
    "titles = hn[\"title\"].tolist()"
   ]
  }
 ],
 "metadata": {
  "kernelspec": {
   "display_name": "Python 3 (ipykernel)",
   "language": "python",
   "name": "python3"
  }
 },
 "nbformat": 4,
 "nbformat_minor": 5
}
