{
 "cells": [
  {
   "cell_type": "markdown",
   "id": "bf28a3bd",
   "metadata": {},
   "source": [
    "# 1)"
   ]
  },
  {
   "cell_type": "markdown",
   "id": "d08901e1",
   "metadata": {},
   "source": [
    "# 2 Regular Expressions Module\n",
    "\n",
    "1. Initialize a variable python_mentions with the integer value 0.\n",
    "\n",
    "1. Create a string — pattern — containing a regular expression pattern that uses a set to match Python or python.\n",
    "\n",
    "1. Use a loop to iterate over each item in the titles list, and for each item:\n",
    "    - Use the re.search() function to check whether pattern matches the title.\n",
    "    - If re.search() returns a match object, increment (add 1 to) the python_mentions variable."
   ]
  },
  {
   "cell_type": "code",
   "execution_count": 1,
   "id": "ee35998f",
   "metadata": {},
   "outputs": [
    {
     "name": "stdout",
     "output_type": "stream",
     "text": [
      "160\n"
     ]
    }
   ],
   "source": [
    "import pandas as pd\n",
    "import re\n",
    "\n",
    "hn = pd.read_csv(\"hacker_news.csv\")\n",
    "\n",
    "titles = hn[\"title\"].tolist()\n",
    "python_mentions = 0\n",
    "pattern = \"[Pp]ython\"\n",
    "\n",
    "for t in titles:\n",
    "    if re.search(pattern, t):\n",
    "        python_mentions += 1\n",
    "        \n",
    "print(python_mentions)"
   ]
  }
 ],
 "metadata": {
  "kernelspec": {
   "display_name": "Python 3",
   "language": "python",
   "name": "python3"
  },
  "language_info": {
   "codemirror_mode": {
    "name": "ipython",
    "version": 3
   },
   "file_extension": ".py",
   "mimetype": "text/x-python",
   "name": "python",
   "nbconvert_exporter": "python",
   "pygments_lexer": "ipython3",
   "version": "3.12.1"
  }
 },
 "nbformat": 4,
 "nbformat_minor": 5
}
