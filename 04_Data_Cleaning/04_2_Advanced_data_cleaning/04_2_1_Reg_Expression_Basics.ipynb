{
 "cells": [
  {
   "cell_type": "markdown",
   "id": "bf28a3bd",
   "metadata": {},
   "source": [
    "# 1)"
   ]
  },
  {
   "cell_type": "markdown",
   "id": "d08901e1",
   "metadata": {},
   "source": [
    "# 2 Regular Expressions Module\n",
    "\n",
    "1. Initialize a variable python_mentions with the integer value 0.\n",
    "\n",
    "1. Create a string — pattern — containing a regular expression pattern that uses a set to match Python or python.\n",
    "\n",
    "1. Use a loop to iterate over each item in the titles list, and for each item:\n",
    "    - Use the re.search() function to check whether pattern matches the title.\n",
    "    - If re.search() returns a match object, increment (add 1 to) the python_mentions variable."
   ]
  },
  {
   "cell_type": "code",
   "execution_count": null,
   "id": "ee35998f",
   "metadata": {},
   "outputs": [],
   "source": []
  }
 ],
 "metadata": {
  "language_info": {
   "name": "python"
  }
 },
 "nbformat": 4,
 "nbformat_minor": 5
}
