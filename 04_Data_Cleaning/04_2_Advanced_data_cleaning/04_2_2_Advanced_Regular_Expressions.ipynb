{
 "cells": [
  {
   "cell_type": "markdown",
   "id": "2c5e6a22",
   "metadata": {},
   "source": [
    "# Import Dataset"
   ]
  },
  {
   "cell_type": "code",
   "execution_count": 4,
   "id": "97c9fb90",
   "metadata": {},
   "outputs": [],
   "source": [
    "import pandas as pd\n",
    "import re\n",
    "\n",
    "hn = pd.read_csv(\"04_Data_Cleaning/04_2_Advanced_data_cleaning/hacker_news.csv\")\n",
    "\n",
    "titles = hn[\"title\"]"
   ]
  },
  {
   "cell_type": "markdown",
   "id": "25821226",
   "metadata": {},
   "source": [
    "# 1 Introduction\n",
    "\n",
    "1. Create a case insensitive regex pattern that matches all case variations of the letters SQL.\n",
    "\n",
    "1. Use that regex pattern and the ignorecase flag to count the number of mentions of SQL in titles. Assign the result to `sql_counts`."
   ]
  },
  {
   "cell_type": "code",
   "execution_count": 5,
   "id": "8fbfe46e",
   "metadata": {},
   "outputs": [],
   "source": [
    "pattern = r\"sql\" \n",
    "sql_counts = titles.str.contains(pattern,flags=re.I).sum()"
   ]
  }
 ],
 "metadata": {
  "kernelspec": {
   "display_name": "Python 3 (ipykernel)",
   "language": "python",
   "name": "python3"
  },
  "language_info": {
   "codemirror_mode": {
    "name": "ipython",
    "version": 3
   },
   "file_extension": ".py",
   "mimetype": "text/x-python",
   "name": "python",
   "nbconvert_exporter": "python",
   "pygments_lexer": "ipython3",
   "version": "3.12.1"
  }
 },
 "nbformat": 4,
 "nbformat_minor": 5
}
